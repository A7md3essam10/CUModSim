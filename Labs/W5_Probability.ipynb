{
 "cells": [
  {
   "cell_type": "markdown",
   "metadata": {},
   "source": [
    "## Cards\n"
   ]
  },
  {
   "cell_type": "code",
   "execution_count": null,
   "metadata": {
    "collapsed": false,
    "deletable": true,
    "editable": true
   },
   "outputs": [],
   "source": [
    "using Combinatorics\n",
    "using StatsBase\n",
    "immutable Card{Tc,Ts}\n",
    "    suit::Tc\n",
    "    rank::Ts\n",
    "end\n"
   ]
  },
  {
   "cell_type": "code",
   "execution_count": null,
   "metadata": {
    "collapsed": false,
    "deletable": true,
    "editable": true
   },
   "outputs": [],
   "source": [
    "import Base.string, Base.print,Base.show\n",
    "string(b::Card)=\"$(b.suit)$(b.rank)\"\n",
    "print(io::IO, x::Card) = print(io, string(x))\n",
    "show(io::IO, x::Card) = print(io,  x)\n",
    "\n",
    "function P(event, space)\n",
    "    length(intersect(event,space))//length(space)\n",
    "end\n",
    "\n",
    "function P(event::Function, space)\n",
    "    count(event,space)//length(space)\n",
    "end\n",
    "\n",
    "suits = \"SHDC\"\n",
    "ranks = \"A23456789TJQK\"\n",
    "\n",
    "cards=[Card(a,b) for a in suits for b in ranks];\n"
   ]
  },
  {
   "cell_type": "markdown",
   "metadata": {
    "deletable": true,
    "editable": true
   },
   "source": [
    "### 1. What is the probabaility of drawing a card of \"2 Diamond\" or \"3 Heart\" ?\n"
   ]
  },
  {
   "cell_type": "code",
   "execution_count": null,
   "metadata": {
    "collapsed": false,
    "deletable": true,
    "editable": true
   },
   "outputs": [],
   "source": [
    "event=[Card('S','2'),Card('H','3')]\n",
    "P(event,cards)\n"
   ]
  },
  {
   "cell_type": "markdown",
   "metadata": {
    "deletable": true,
    "editable": true
   },
   "source": [
    "### 2. What is the probabaility of drawing a diamond card ?\n"
   ]
  },
  {
   "cell_type": "code",
   "execution_count": null,
   "metadata": {
    "collapsed": false,
    "deletable": true,
    "editable": true
   },
   "outputs": [],
   "source": [
    "# all diamond cards\n",
    "diamondEvent=count(x->x.suit=='D',cards)\n",
    "\n",
    "# their prob.:\n",
    "diamondEvent//length(cards)\n"
   ]
  },
  {
   "cell_type": "markdown",
   "metadata": {
    "deletable": true,
    "editable": true
   },
   "source": [
    "### 3. If we draw 3 random cards, what is the probability to have three \"club\" cards ?\n"
   ]
  },
  {
   "cell_type": "code",
   "execution_count": null,
   "metadata": {
    "collapsed": false,
    "deletable": true,
    "editable": true
   },
   "outputs": [],
   "source": [
    "# all differnt combination os the 3 cards\n",
    "comb3 =collect( combinations(cards,3) )\n",
    "count_clubs(hand)= count(x->x.suit=='C',hand)==3\n",
    "P(count_clubs,comb3)\n"
   ]
  },
  {
   "cell_type": "markdown",
   "metadata": {
    "deletable": true,
    "editable": true
   },
   "source": [
    "### 4. If we draw 3 random cards, what is the probability to have two cards of same suit?"
   ]
  },
  {
   "cell_type": "code",
   "execution_count": null,
   "metadata": {
    "collapsed": false,
    "deletable": true,
    "editable": true
   },
   "outputs": [],
   "source": [
    "comb3 =collect( combinations(cards,3) )\n",
    "count_suits(hand,s)= count(x->x.suit==s,hand)\n",
    "similar2(hand)= any(count_suits(hand,s)==2 for s in suits)\n",
    "P(similar2,comb3)\n"
   ]
  },
  {
   "cell_type": "markdown",
   "metadata": {
    "deletable": true,
    "editable": true
   },
   "source": [
    "### 5.  Add a new attribute \"colour\" to the Card ..  If we draw 4 cards (assuming all different combinations)\n",
    "> 1. What is the prob. to draw 2 red cards and 2 black cards <br>\n",
    "> 2. What is the prob. that you draw 3 cards of same colour (either red or black)"
   ]
  },
  {
   "cell_type": "code",
   "execution_count": null,
   "metadata": {
    "collapsed": false,
    "deletable": true,
    "editable": true
   },
   "outputs": [],
   "source": [
    "immutable Card2{Ts,Tr,Tc}\n",
    "    suit::Ts\n",
    "    rank::Tr\n",
    "    color::Tc\n",
    "end\n",
    "\n",
    "import Base.string, Base.print,Base.show\n",
    "string(b::Card2)=\"$(b.suit)$(b.rank)$(b.color)\"\n",
    "print(io::IO, x::Card2) = print(io, string(x))\n",
    "show(io::IO, x::Card2) = print(io,  x)\n",
    "\n",
    "suits = \"HDSC\"\n",
    "ranks = \"A23456789TJQK\"\n",
    "colours=\"RB\"\n",
    "\n",
    "# we create the 52 cards on two steps because Hearts and Diamonds are the only red and \n",
    "# others are black\n",
    "cards1=[Card2(a,b,'R') for a in suits for b in ranks if a=='H' || a=='D']\n",
    "cards2=[Card2(a,b,'B') for a in suits for b in ranks if a=='S' || a=='C']\n",
    "cards=[cards1;cards2];\n",
    "                                "
   ]
  },
  {
   "cell_type": "code",
   "execution_count": null,
   "metadata": {
    "collapsed": false,
    "deletable": true,
    "editable": true
   },
   "outputs": [],
   "source": [
    "#5.1.\n",
    "comb4= collect(combinations(cards,4)) ;\n",
    "colours_count(cards,c)= count(x->x.color==c , cards)\n",
    "similar2(hand)=(colours_count(hand,'R')==2 && colours_count(hand,'B')==2 )\n",
    "P(similar_to,comb4)\n"
   ]
  },
  {
   "cell_type": "code",
   "execution_count": null,
   "metadata": {
    "collapsed": false,
    "deletable": true,
    "editable": true
   },
   "outputs": [],
   "source": [
    "# 5.2.\n",
    "similar3(hand)=any(colours_count(hand,c)==3 for c in colours )\n",
    "P(similar3,comb4)\n"
   ]
  },
  {
   "cell_type": "markdown",
   "metadata": {
    "deletable": true,
    "editable": true
   },
   "source": [
    "## Gambling\n",
    "### 6. If a student can take an exam for five times\n",
    "> 1. What is the number of all different combinations of being passed or not in this exam each time ?\n",
    "> 2. For all these combinations, how many combinations include exactly 3 passes of this student?\n",
    "> 3. What is the probability that the student will pass at least two times out of the five times?"
   ]
  },
  {
   "cell_type": "code",
   "execution_count": null,
   "metadata": {
    "collapsed": false,
    "deletable": true,
    "editable": true
   },
   "outputs": [],
   "source": [
    "function resultsComb(noExams)\n",
    "    results=[\"10\" for _ in 1:noExams]\n",
    "    p=Base.product(results...)\n",
    "    reshape(collect(p),length(p),1)\n",
    "end\n"
   ]
  },
  {
   "cell_type": "code",
   "execution_count": null,
   "metadata": {
    "collapsed": false,
    "deletable": true,
    "editable": true
   },
   "outputs": [],
   "source": [
    "# 6.1.\n",
    "r=resultsComb(5)\n",
    "length(r)\n"
   ]
  },
  {
   "cell_type": "code",
   "execution_count": null,
   "metadata": {
    "collapsed": false,
    "deletable": true,
    "editable": true
   },
   "outputs": [],
   "source": [
    "#6.2.\n",
    "passes3(comb)=count(x->x=='1',comb)==3\n",
    "sum( [passes3(comb) for comb in r] )\n"
   ]
  },
  {
   "cell_type": "code",
   "execution_count": null,
   "metadata": {
    "collapsed": false,
    "deletable": true,
    "editable": true
   },
   "outputs": [],
   "source": [
    "#6.3.\n",
    "passes2(comb)=count(x->x=='1',comb)>=2\n",
    "P( passes2 , r)\n"
   ]
  }
 ],
 "metadata": {
  "kernelspec": {
   "display_name": "Julia 0.5.0",
   "language": "julia",
   "name": "julia-0.5"
  },
  "language_info": {
   "file_extension": ".jl",
   "mimetype": "application/julia",
   "name": "julia",
   "version": "0.5.0"
  }
 },
 "nbformat": 4,
 "nbformat_minor": 0
}
