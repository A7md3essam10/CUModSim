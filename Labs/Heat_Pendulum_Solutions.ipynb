{
 "cells": [
  {
   "cell_type": "markdown",
   "metadata": {
    "deletable": true,
    "editable": true
   },
   "source": [
    "## Heat :Warmup Questions"
   ]
  },
  {
   "cell_type": "markdown",
   "metadata": {
    "deletable": true,
    "editable": true
   },
   "source": [
    "### Q1 What is exactly the temperature at t=10?\n"
   ]
  },
  {
   "cell_type": "code",
   "execution_count": null,
   "metadata": {
    "collapsed": true,
    "deletable": true,
    "editable": true
   },
   "outputs": [],
   "source": [
    "exact_T=temp(10)"
   ]
  },
  {
   "cell_type": "markdown",
   "metadata": {
    "deletable": true,
    "editable": true
   },
   "source": [
    "### Q2 What is the difference between the exact solution at t=10 and the Euler solution with a time step of 2.5?\n"
   ]
  },
  {
   "cell_type": "code",
   "execution_count": null,
   "metadata": {
    "collapsed": true,
    "deletable": true,
    "editable": true
   },
   "outputs": [],
   "source": [
    "t_range, Temps=EulerIntegration(dTdt, T_bottle, 2.5, 15);\n",
    "indx=find(t_range.==10) \n",
    "the_temp= Temps[indx]"
   ]
  },
  {
   "cell_type": "markdown",
   "metadata": {
    "deletable": true,
    "editable": true
   },
   "source": [
    "### Q3 Would decreasing the time step to 1 increase of decrease the error. "
   ]
  },
  {
   "cell_type": "code",
   "execution_count": null,
   "metadata": {
    "collapsed": true,
    "deletable": true,
    "editable": true
   },
   "outputs": [],
   "source": [
    "t_range, Temps=EulerIntegration(dTdt, T_bottle, 1, 15);\n",
    "plot(t_range,Temps) \n",
    "xlabel(\"Time\")\n",
    "ylabel(\"Temprature\")\n",
    "indx=find(t_range.==10) \n",
    "Temps[indx] #more accurate"
   ]
  },
  {
   "cell_type": "markdown",
   "metadata": {
    "deletable": true,
    "editable": true
   },
   "source": [
    "## Pendulum :Warmup Questions"
   ]
  },
  {
   "cell_type": "markdown",
   "metadata": {
    "deletable": true,
    "editable": true
   },
   "source": [
    "### Q1 Would changing decreasing the time step in last Euler plot improve stability when viewed $t=600$?"
   ]
  },
  {
   "cell_type": "code",
   "execution_count": null,
   "metadata": {
    "collapsed": true,
    "deletable": true,
    "editable": true
   },
   "outputs": [],
   "source": [
    "t_range2, thetas2=EulerIntegrationPendulum(theta_0, theta_dot_0, 0.0001, 600); #red\n",
    "plot(t_range2, thetas2); xlabel(\"Time\"); ylabel(\"Angle\")\n",
    "\n",
    "#whatever decrease in the step, the amplitude will always be larger with time\n",
    "#which is not correct.. So, Euler is not good at all to be used here because of\n",
    "#the non-linearity"
   ]
  },
  {
   "cell_type": "markdown",
   "metadata": {
    "deletable": true,
    "editable": true
   },
   "source": [
    "### Q2 What is the effect of adding an initial starting angular velocity (say $\\dot \\theta_0=0.5$) on the period (time it take for the pendulum to return to its exact starting point)? Pendulums were used for time keeping, how does you observation here affect time keeping accuracy?"
   ]
  },
  {
   "cell_type": "code",
   "execution_count": null,
   "metadata": {
    "collapsed": true,
    "deletable": true,
    "editable": true
   },
   "outputs": [],
   "source": [
    "x_0=[theta_0,theta_dot_0] # vector of initial conditions\n",
    "tspan=0.0:0.1:60.0 #The time span\n",
    "t_acc1,res=ode45(simple_pendulum,x_0,tspan) #Running the solver\n",
    "thetas_acc1=map(x->x[1],res) # Extracing the angle from the results;\n",
    "\n",
    "x_0=[theta_0,theta_dot_0+0.5] # vector of initial conditions\n",
    "tspan=0.0:0.1:60.0 #The time span\n",
    "t_acc2,res=ode45(simple_pendulum,x_0,tspan) #Running the solver\n",
    "thetas_acc2=map(x->x[1],res) # Extracing the angle from the results;\n",
    "\n",
    "plot(t_acc1,thetas_acc1,t_acc2,thetas_acc2); xlabel(\"Time\"); ylabel(\"Angle\")\n"
   ]
  },
  {
   "cell_type": "markdown",
   "metadata": {
    "collapsed": true,
    "deletable": true,
    "editable": true
   },
   "source": [
    "### Q3 Is a longer pendulum, slower or faster?"
   ]
  },
  {
   "cell_type": "code",
   "execution_count": null,
   "metadata": {
    "collapsed": true,
    "deletable": true,
    "editable": true
   },
   "outputs": [],
   "source": [
    "# Let L=5 and call again the above ode45 and get a conclusion from graph"
   ]
  },
  {
   "cell_type": "markdown",
   "metadata": {
    "collapsed": true,
    "deletable": true,
    "editable": true
   },
   "source": [
    "### Q4 How does decreasing or increasing the pendulum's starting angle affect its speed of oscillation? "
   ]
  },
  {
   "cell_type": "code",
   "execution_count": null,
   "metadata": {
    "collapsed": true,
    "deletable": true,
    "editable": true
   },
   "outputs": [],
   "source": [
    "# Try first the initial theta of pi/2 then call ode45\n",
    "x0=[pi/2 ,0]\n",
    "\n",
    "# Try then pi/8 as initial theta and call ode45\n",
    "x0=[pi/8 ,0]\n",
    "\n",
    "# get your conclusions from plotting two graohs of the two calls\n",
    "\n"
   ]
  },
  {
   "cell_type": "markdown",
   "metadata": {},
   "source": [
    "## Heat: Lab Tasks"
   ]
  },
  {
   "cell_type": "markdown",
   "metadata": {},
   "source": [
    "### In the Heat D.E., what is the temperature of a bottle that taken out of the fridge at T=4 and left in a room with T=30 for 7 minutes then placed in the freezer at T=-4 for 20 minutes. (Given: the time step is 0.01 and r=0.2)"
   ]
  },
  {
   "cell_type": "code",
   "execution_count": 1,
   "metadata": {
    "collapsed": false,
    "deletable": true,
    "editable": true
   },
   "outputs": [
    {
     "ename": "LoadError",
     "evalue": "UndefVarError: EulerIntegration not defined",
     "output_type": "error",
     "traceback": [
      "UndefVarError: EulerIntegration not defined",
      ""
     ]
    }
   ],
   "source": [
    "r=0.2 # Coefficient of conductivity \n",
    "T_env=30 # Room temperature \n",
    "T_bottle=4 # The temperature of the beverage\n",
    "dTdt(T)=-r*(T-T_env) # Newton's Law of Cooling\n",
    "t_range, Temps=EulerIntegration(dTdt, T_bottle, 0.01, 7);\n",
    "\n",
    "T_env2 =-4#Freezer temperature\n",
    "#The T_bottle here will equal to the last value of Temps\n",
    "dTdt2(T)=-r*(T-T_env2)\n",
    "t_range2, Temps2=EulerIntegration(dTdt2, Temps[end], 0.01, 20);\n",
    "the_final_temp = Temps2[end]\n"
   ]
  },
  {
   "cell_type": "markdown",
   "metadata": {},
   "source": [
    "### In the Heat D.E., a bottle was found to have a temperature of 25 in a room with T=35. It was taken out of the fridge with T=4, how long has the bottle been standing? (Given: the time step is 0.01 and r=0.2)\n"
   ]
  },
  {
   "cell_type": "code",
   "execution_count": null,
   "metadata": {
    "collapsed": true
   },
   "outputs": [],
   "source": [
    "T_env3 = 35\n",
    "T_bottle3 = 4\n",
    "target_T = 25\n",
    "dTdt3(T)=-r*(T-T_env3)\n",
    "t_range, Temps= EulerIntegration(dTdt3,T_bottle3,0.01,100,target_T)\n",
    "indx=findfirst(Temps.>24)\n",
    "println( t_range[indx] )\n"
   ]
  },
  {
   "cell_type": "markdown",
   "metadata": {},
   "source": [
    "\n",
    "### In the pendulum D.E. and using ODE package, What is the exact period length (time it takes for pendulum to return to its exact starting point ? (given that g=9.8, L=1, initial angle is pi/2 and initial angular velocity is 0. Time step =0.1 and simulation ends at 20)\n"
   ]
  },
  {
   "cell_type": "code",
   "execution_count": null,
   "metadata": {
    "collapsed": true,
    "deletable": true,
    "editable": true
   },
   "outputs": [],
   "source": [
    "x_0_p=[(π/2),0] # vector of initial conditions\n",
    "t_acc2,res2=ode45(simple_pendulum,x_0_p,tspan) #Running the solver\n",
    "thetas_acc2=map(x->x[1],res2) \n",
    "r=findfirst(thetas_acc2.<=0)\n",
    "println(4*t_acc2[r])\n"
   ]
  },
  {
   "cell_type": "markdown",
   "metadata": {},
   "source": [
    "### Would a tenth increase in the length of pendulum has a lesser or greater effect on the rate of trajectory divergence as compared with a tenth of increase in initial thetas?"
   ]
  },
  {
   "cell_type": "code",
   "execution_count": null,
   "metadata": {
    "collapsed": true
   },
   "outputs": [],
   "source": [
    "# Try L=1 and L=1.1 and call ode45 at each time\n",
    "# Then try to plot:\n",
    "# plot(tspan,thetas_acc1[isinteger.(round.(t_acc1*100,5))]-thetas_acc2[isinteger.(round.(t_acc2*100,5))]); xlabel(\"Time\"); ylabel(\"Angle Difference\")\n",
    "\n",
    "# to get trajectory divergence and compare it with the result in Dr's notebook"
   ]
  }
 ],
 "metadata": {
  "kernelspec": {
   "display_name": "Julia 0.5.0",
   "language": "julia",
   "name": "julia-0.5"
  },
  "language_info": {
   "file_extension": ".jl",
   "mimetype": "application/julia",
   "name": "julia",
   "version": "0.5.0"
  }
 },
 "nbformat": 4,
 "nbformat_minor": 0
}
