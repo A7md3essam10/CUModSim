{
 "cells": [
  {
   "cell_type": "code",
   "execution_count": 2,
   "metadata": {
    "collapsed": false
   },
   "outputs": [],
   "source": [
    "using Combinatorics"
   ]
  },
  {
   "cell_type": "markdown",
   "metadata": {},
   "source": [
    "## Ball Questions"
   ]
  },
  {
   "cell_type": "code",
   "execution_count": 3,
   "metadata": {
    "collapsed": true
   },
   "outputs": [],
   "source": [
    "immutable Ball{TC,TN}\n",
    "    color::TC\n",
    "    number::TN\n",
    "end\n",
    "\n",
    "Base.show(io::IO, x::Ball) = print(io,\"$(x.color)$(x.number)\")\n",
    "\n",
    "labelled_balls(c,n)=[Ball(t[2],t[1]) for t in Base.product(1:n,c)] \n",
    "\n",
    "P(event, space)=length(intersect(event,space))//length(space);"
   ]
  },
  {
   "cell_type": "markdown",
   "metadata": {},
   "source": [
    "## 1. If you have an Urn that has 10 balls with color \"W\" and 12 balls with color \"B\" and you choose randomly 4 balls from this urn. What is the probability that the four balls are of color \"W\"\n",
    "\n"
   ]
  },
  {
   "cell_type": "code",
   "execution_count": 4,
   "metadata": {
    "collapsed": false
   },
   "outputs": [
    {
     "data": {
      "text/html": [
       "6//209"
      ],
      "text/plain": [
       "6//209"
      ]
     },
     "execution_count": 4,
     "metadata": {},
     "output_type": "execute_result"
    }
   ],
   "source": [
    "urn=[labelled_balls('W',10) ; labelled_balls('B',12) ]\n",
    "\n",
    "comb4= collect(combinations(urn,4))\n",
    "countW(l)=count(x->x.color=='W',l)\n",
    "event=[c for c in comb4 if countW(c)==4]\n",
    "P(event,comb4)"
   ]
  },
  {
   "cell_type": "markdown",
   "metadata": {},
   "source": [
    "## 2. If you have an Urn that has 7 balls with color \"B\" and 12 balls with color \"W\" and you choose randomly 3 balls from this urn. What is the probability that two of them are of color \"W\"\n"
   ]
  },
  {
   "cell_type": "code",
   "execution_count": 5,
   "metadata": {
    "collapsed": false
   },
   "outputs": [
    {
     "name": "stderr",
     "output_type": "stream",
     "text": [
      "WARNING: Method definition countW(Any)"
     ]
    },
    {
     "data": {
      "text/html": [
       "154//323"
      ],
      "text/plain": [
       "154//323"
      ]
     },
     "execution_count": 5,
     "metadata": {},
     "output_type": "execute_result"
    },
    {
     "name": "stderr",
     "output_type": "stream",
     "text": [
      " in module Main at In[4]:4 overwritten at In[5]:4.\n"
     ]
    }
   ],
   "source": [
    "urn=[labelled_balls('W',12) ; labelled_balls('B',7) ]\n",
    "\n",
    "comb3= collect(combinations(urn,3))\n",
    "countW(l)=count(x->x.color=='W',l)\n",
    "event=[c for c in comb3 if countW(c)==2]\n",
    "P(event,comb3)"
   ]
  },
  {
   "cell_type": "markdown",
   "metadata": {},
   "source": [
    "## 3. If you have an Urn that has 7 balls with color \"B\" , 7 balls with color \"W\" and 7 balls with color \"R\" and you choose randomly 5 balls from this urn. What is the number of combinations of these 5 balls that will have all the 5 balls with color \"B\" \n"
   ]
  },
  {
   "cell_type": "code",
   "execution_count": 6,
   "metadata": {
    "collapsed": false
   },
   "outputs": [
    {
     "data": {
      "text/html": [
       "21"
      ],
      "text/plain": [
       "21"
      ]
     },
     "execution_count": 6,
     "metadata": {},
     "output_type": "execute_result"
    }
   ],
   "source": [
    "urn=[labelled_balls('W',7) ; labelled_balls('B',7) ; labelled_balls('R',7) ]\n",
    "\n",
    "comb5= collect(combinations(urn,5))\n",
    "countB(l)=count(x->x.color=='B',l)\n",
    "event=[e for e in comb5 if countB(e)==5]\n",
    "length(event)\n",
    "#OR\n",
    "#count(x->countB(x)==5,comb5)"
   ]
  },
  {
   "cell_type": "markdown",
   "metadata": {},
   "source": [
    "## 4. If you have an Urn that has 10 balls with color \"B\" , 10 balls with color \"W\" and 10 balls with color \"R\" and you choose randomly 4 balls from this urn. What is the number of combinations of these 4 balls that will have 2 balls with color \"B\" and 2 with color \"R\" \n"
   ]
  },
  {
   "cell_type": "code",
   "execution_count": 7,
   "metadata": {
    "collapsed": false
   },
   "outputs": [
    {
     "data": {
      "text/html": [
       "2025"
      ],
      "text/plain": [
       "2025"
      ]
     },
     "execution_count": 7,
     "metadata": {},
     "output_type": "execute_result"
    }
   ],
   "source": [
    "urn=[labelled_balls('W',10) ; labelled_balls('B',10) ; labelled_balls('R',10) ]\n",
    "\n",
    "comb4= collect(combinations(urn,4))\n",
    "countBR(l,c)=count(x->x.color==c,l)\n",
    "event=[e for e in comb4 if countBR(e,'R')==2 && countBR(e,'B')==2 ]\n",
    "length(event)"
   ]
  },
  {
   "cell_type": "markdown",
   "metadata": {},
   "source": [
    "## 5. If you have an Urn that has 5 balls with color \"W\", 5 balls with color \"R\" and 5 balls with color \"B\" and you choose randomly 5 balls from this urn. What is the probability that the five balls are numbered with a number > 2 \n"
   ]
  },
  {
   "cell_type": "code",
   "execution_count": 8,
   "metadata": {
    "collapsed": false
   },
   "outputs": [
    {
     "data": {
      "text/html": [
       "60//143"
      ],
      "text/plain": [
       "60//143"
      ]
     },
     "execution_count": 8,
     "metadata": {},
     "output_type": "execute_result"
    }
   ],
   "source": [
    "urn=[labelled_balls('W',5);labelled_balls('R',5) ; labelled_balls('B',5) ]\n",
    "\n",
    "comb3= collect(combinations(urn,5))\n",
    "countN(l)=count(x->x.number>2,l)\n",
    "event=[e for e in comb3 if countN(e)==3]\n",
    "P(event,comb3)"
   ]
  },
  {
   "cell_type": "markdown",
   "metadata": {},
   "source": [
    "## 6. If you have an Urn that has 8 balls with color \"W\" and 12 balls with color \"B\" and you choose randomly 6 balls from this urn. What is the probability that four of them are of color \"W\"\n",
    "\n"
   ]
  },
  {
   "cell_type": "code",
   "execution_count": 9,
   "metadata": {
    "collapsed": false
   },
   "outputs": [
    {
     "name": "stderr",
     "output_type": "stream",
     "text": [
      "WARNING: Method definition countW(Any)"
     ]
    },
    {
     "data": {
      "text/html": [
       "77//646"
      ],
      "text/plain": [
       "77//646"
      ]
     },
     "execution_count": 9,
     "metadata": {},
     "output_type": "execute_result"
    },
    {
     "name": "stderr",
     "output_type": "stream",
     "text": [
      " in module Main at In[5]:4 overwritten at In[9]:4.\n"
     ]
    }
   ],
   "source": [
    "urn=[labelled_balls('W',8) ; labelled_balls('B',12) ]\n",
    "\n",
    "comb6= collect(combinations(urn,6))\n",
    "countW(l)=count(x->x.color=='W',l)\n",
    "event=[c for c in comb6 if countW(c)==4]\n",
    "P(event,comb6)"
   ]
  },
  {
   "cell_type": "markdown",
   "metadata": {},
   "source": [
    "## 7. If you have an Urn that has 7 balls with color \"B\" and 12 balls with color \"W\" and you choose randomly 3 balls from this urn. What is the probability that two of them have number = 2\n"
   ]
  },
  {
   "cell_type": "code",
   "execution_count": 10,
   "metadata": {
    "collapsed": false
   },
   "outputs": [
    {
     "name": "stderr",
     "output_type": "stream",
     "text": [
      "WARNING: Method definition countN(Any"
     ]
    },
    {
     "data": {
      "text/html": [
       "1//57"
      ],
      "text/plain": [
       "1//57"
      ]
     },
     "execution_count": 10,
     "metadata": {},
     "output_type": "execute_result"
    },
    {
     "name": "stderr",
     "output_type": "stream",
     "text": [
      ") in module Main at In[8]:4 overwritten at In[10]:4.\n"
     ]
    }
   ],
   "source": [
    "urn=[labelled_balls('W',12) ; labelled_balls('B',7) ]\n",
    "\n",
    "comb3= collect(combinations(urn,3))\n",
    "countN(l)=count(x->x.number==2,l)\n",
    "event=[c for c in comb3 if countN(c)==2]\n",
    "P(event,comb3)"
   ]
  },
  {
   "cell_type": "markdown",
   "metadata": {},
   "source": [
    "## 8. If you have an Urn that has 3 balls with color \"B\" , 7 balls with color \"W\" and 12 balls with color \"R\" and you choose randomly 6 balls from this urn. What is the number of combinations of these 6 balls that will have 3 out of the 6 balls with color \"R\" \n"
   ]
  },
  {
   "cell_type": "code",
   "execution_count": 11,
   "metadata": {
    "collapsed": false
   },
   "outputs": [
    {
     "data": {
      "text/html": [
       "26400"
      ],
      "text/plain": [
       "26400"
      ]
     },
     "execution_count": 11,
     "metadata": {},
     "output_type": "execute_result"
    }
   ],
   "source": [
    "urn=[labelled_balls('W',7) ; labelled_balls('B',3) ; labelled_balls('R',12) ]\n",
    "\n",
    "comb6= collect(combinations(urn,6))\n",
    "countR(l)=count(x->x.color=='R',l)\n",
    "event=[e for e in comb6 if countR(e)==3]\n",
    "length(event)"
   ]
  },
  {
   "cell_type": "markdown",
   "metadata": {},
   "source": [
    "## 9. If you have an Urn that has 10 balls with color \"B\" , 10 balls with color \"W\" and 20 balls with color \"R\" and you choose randomly 4 balls from this urn. What is the number of combinations of these 4 balls that will have 2 balls with color \"B\" and 2 with color \"W\" \n"
   ]
  },
  {
   "cell_type": "code",
   "execution_count": 12,
   "metadata": {
    "collapsed": false
   },
   "outputs": [
    {
     "name": "stderr",
     "output_type": "stream",
     "text": [
      "WARNING: Method definition countBR(Any"
     ]
    },
    {
     "data": {
      "text/html": [
       "2025"
      ],
      "text/plain": [
       "2025"
      ]
     },
     "execution_count": 12,
     "metadata": {},
     "output_type": "execute_result"
    },
    {
     "name": "stderr",
     "output_type": "stream",
     "text": [
      ", Any) in module Main at In[7]:4 overwritten at In[12]:4.\n"
     ]
    }
   ],
   "source": [
    "urn=[labelled_balls('W',10) ; labelled_balls('B',10) ; labelled_balls('R',20) ]\n",
    "\n",
    "comb4= collect(combinations(urn,4))\n",
    "countBR(l,c)=count(x->x.color==c,l)\n",
    "event=[e for e in comb4 if countBR(e,'W')==2 && countBR(e,'B')==2 ]\n",
    "length(event)"
   ]
  },
  {
   "cell_type": "markdown",
   "metadata": {},
   "source": [
    "## 10. If you have an Urn that has 15 balls with color \"W\" and 5 balls with color \"B\" and you choose randomly 2 balls from this urn. What is the probability that the two balls are numbered with a number > 3 \n",
    "\n"
   ]
  },
  {
   "cell_type": "code",
   "execution_count": 13,
   "metadata": {
    "collapsed": false
   },
   "outputs": [
    {
     "name": "stderr",
     "output_type": "stream",
     "text": [
      "WARNING: Method definition countN(Any"
     ]
    },
    {
     "data": {
      "text/html": [
       "91//190"
      ],
      "text/plain": [
       "91//190"
      ]
     },
     "execution_count": 13,
     "metadata": {},
     "output_type": "execute_result"
    },
    {
     "name": "stderr",
     "output_type": "stream",
     "text": [
      ") in module Main at In[10]:4 overwritten at In[13]:4.\n"
     ]
    }
   ],
   "source": [
    "urn=[labelled_balls('W',15) ; labelled_balls('B',5) ]\n",
    "\n",
    "comb2= collect(combinations(urn,2))\n",
    "countN(l)=count(x->x.number>3,l)\n",
    "event=[e for e in comb2 if countN(e)==2]\n",
    "P(event,comb2)"
   ]
  },
  {
   "cell_type": "markdown",
   "metadata": {},
   "source": [
    "## Gambling Questions"
   ]
  },
  {
   "cell_type": "code",
   "execution_count": 14,
   "metadata": {
    "collapsed": false
   },
   "outputs": [
    {
     "data": {
      "text/plain": [
       "continuations"
      ]
     },
     "execution_count": 14,
     "metadata": {},
     "output_type": "execute_result"
    }
   ],
   "source": [
    "function P(event::Function, space)\n",
    "    count(event,space)//length(space) #Converting the space to a Set speeds the intersection\n",
    "end\n",
    "\n",
    "\"The probability that H will win the unfinished game, given the number of points needed by H and T to win.\"\n",
    "function win_unfinished_game(Hneeds, Tneeds)\n",
    "    Hwins(outcome)=count(x->x=='h',outcome)>= Hneeds\n",
    "    P(Hwins, continuations(Hneeds, Tneeds))\n",
    "end\n",
    "\n",
    "\"All continuations of a game where H needs `Hneeds` points to win and T needs `Tneeds`.\"\n",
    "function continuations(Hneeds, Tneeds)\n",
    "    rounds = [\"ht\" for _ in 1:(Hneeds + Tneeds - 1)]\n",
    "    p=Base.product(rounds...)\n",
    "    reshape(collect(p),length(p),1)\n",
    "end"
   ]
  },
  {
   "cell_type": "markdown",
   "metadata": {},
   "source": [
    "## 1. Consider a gambling game consisting of tossing a coin. Player H wins the game if 15 heads come up, and T wins if 15 tails come up. If the game is interrupted when H has 8 heads and T has 7 tails, what is the share of player H of the pot of money (which happens to be 100 Francs)?\n",
    "\n"
   ]
  },
  {
   "cell_type": "code",
   "execution_count": 15,
   "metadata": {
    "collapsed": false
   },
   "outputs": [
    {
     "data": {
      "text/html": [
       "60.4736328125"
      ],
      "text/plain": [
       "60.4736328125"
      ]
     },
     "execution_count": 15,
     "metadata": {},
     "output_type": "execute_result"
    }
   ],
   "source": [
    "prob = win_unfinished_game(7, 8) #for the player with Heads\n",
    "#Money should be splitted like this\n",
    "H_share_of_money = Float64(prob*100)"
   ]
  },
  {
   "cell_type": "markdown",
   "metadata": {},
   "source": [
    "## 2. Consider a gambling game consisting of tossing a coin. Player H wins the game if 15 heads come up, and T wins if 10 tails come up. If the game is interrupted when H has 13 heads and T has 7 tails, What is the probability that player H wins?\n",
    "\n"
   ]
  },
  {
   "cell_type": "code",
   "execution_count": 16,
   "metadata": {
    "collapsed": false
   },
   "outputs": [
    {
     "data": {
      "text/html": [
       "11//16"
      ],
      "text/plain": [
       "11//16"
      ]
     },
     "execution_count": 16,
     "metadata": {},
     "output_type": "execute_result"
    }
   ],
   "source": [
    "prob = win_unfinished_game(2, 3) #for the player with Heads"
   ]
  },
  {
   "cell_type": "markdown",
   "metadata": {},
   "source": [
    "## 3. Consider a gambling game consisting of tossing a coin. Player H wins the game if 15 heads come up, and T wins if 18 tails come up. If the game is interrupted when H has 13 heads and T has 10 tails, What is the probability that player T wins?"
   ]
  },
  {
   "cell_type": "code",
   "execution_count": 17,
   "metadata": {
    "collapsed": false
   },
   "outputs": [
    {
     "data": {
      "text/html": [
       "5//256"
      ],
      "text/plain": [
       "5//256"
      ]
     },
     "execution_count": 17,
     "metadata": {},
     "output_type": "execute_result"
    }
   ],
   "source": [
    "prob = win_unfinished_game(8, 2) #for the player with Tails\n",
    "#OR\n",
    "#prob = win_unfinished_game(2, 8) #for the player with Heads\n",
    "#for the player with Tails\n",
    "#probT = 1-prob"
   ]
  },
  {
   "cell_type": "markdown",
   "metadata": {},
   "source": [
    "## 4. Consider a gambling game consisting of tossing a coin. Player H wins the game if 15 heads come up, and T wins if 15 tails come up. If the game is interrupted when H has 8 heads and T has 7 tails, what is the share of player T of the pot of money (which happens to be 1000 Francs)?\n"
   ]
  },
  {
   "cell_type": "code",
   "execution_count": 18,
   "metadata": {
    "collapsed": false
   },
   "outputs": [
    {
     "data": {
      "text/html": [
       "395.263671875"
      ],
      "text/plain": [
       "395.263671875"
      ]
     },
     "execution_count": 18,
     "metadata": {},
     "output_type": "execute_result"
    }
   ],
   "source": [
    "prob = win_unfinished_game(7, 8) #for the player with Heads\n",
    "#Money should be splitted like this\n",
    "T_share_of_money = Float64((1-prob)*1000)"
   ]
  },
  {
   "cell_type": "markdown",
   "metadata": {},
   "source": [
    "## 5. Consider a gambling game consisting of tossing a coin. Player H wins the game if 10 heads come up, and T wins if 10 tails come up. If the game is interrupted when H has 4 heads and T has 5 tails, what is the probability of player H winning the game?\n"
   ]
  },
  {
   "cell_type": "code",
   "execution_count": 19,
   "metadata": {
    "collapsed": false
   },
   "outputs": [
    {
     "data": {
      "text/html": [
       "193//512"
      ],
      "text/plain": [
       "193//512"
      ]
     },
     "execution_count": 19,
     "metadata": {},
     "output_type": "execute_result"
    }
   ],
   "source": [
    "prob = win_unfinished_game(6, 5) #for the player with Heads"
   ]
  },
  {
   "cell_type": "markdown",
   "metadata": {},
   "source": [
    "## 6. Consider a gambling game consisting of tossing a coin. Player H wins the game if 10 heads come up, and T wins if 10 tails come up. If the game is interrupted when H has 4 heads and T has 5 tails, what is the probability of player T winning the game?\n"
   ]
  },
  {
   "cell_type": "code",
   "execution_count": 20,
   "metadata": {
    "collapsed": false
   },
   "outputs": [
    {
     "data": {
      "text/html": [
       "319//512"
      ],
      "text/plain": [
       "319//512"
      ]
     },
     "execution_count": 20,
     "metadata": {},
     "output_type": "execute_result"
    }
   ],
   "source": [
    "prob = win_unfinished_game(6, 5) #for the player with Heads\n",
    "probT = 1-prob"
   ]
  },
  {
   "cell_type": "markdown",
   "metadata": {},
   "source": [
    "## 7. Consider a gambling game consisting of tossing a coin. Player H wins the game if 30 heads come up, and T wins if 30 tails come up. If the game is interrupted when H has 23 heads and T has 25 tails, what is the share of player H of the pot of money (which happens to be 1000 Francs)?\n"
   ]
  },
  {
   "cell_type": "code",
   "execution_count": 21,
   "metadata": {
    "collapsed": false
   },
   "outputs": [
    {
     "data": {
      "text/html": [
       "274.4140625"
      ],
      "text/plain": [
       "274.4140625"
      ]
     },
     "execution_count": 21,
     "metadata": {},
     "output_type": "execute_result"
    }
   ],
   "source": [
    "prob = win_unfinished_game(7, 5) #for the player with Heads\n",
    "#Money should be splitted like this\n",
    "H_share_of_money = Float64(prob*1000)"
   ]
  },
  {
   "cell_type": "markdown",
   "metadata": {},
   "source": [
    "## 8. Consider a gambling game consisting of tossing a coin. Player H wins the game if 20 heads come up, and T wins if 20 tails come up. If the game is interrupted when H has 14 heads and T has 15 tails, what is the probability of player H winning the game?"
   ]
  },
  {
   "cell_type": "code",
   "execution_count": 22,
   "metadata": {
    "collapsed": false
   },
   "outputs": [
    {
     "data": {
      "text/html": [
       "193//512"
      ],
      "text/plain": [
       "193//512"
      ]
     },
     "execution_count": 22,
     "metadata": {},
     "output_type": "execute_result"
    }
   ],
   "source": [
    "prob = win_unfinished_game(6, 5) #for the player with Heads"
   ]
  },
  {
   "cell_type": "markdown",
   "metadata": {},
   "source": [
    "## 9. Consider a gambling game consisting of tossing a coin. Player H wins the game if 15 heads come up, and T wins if 15 tails come up. If the game is interrupted when H has 10 heads and T has 9 tails, what is the share of player H of the pot of money (which happens to be 3500 Francs)?\n",
    "\n"
   ]
  },
  {
   "cell_type": "code",
   "execution_count": 23,
   "metadata": {
    "collapsed": false
   },
   "outputs": [
    {
     "data": {
      "text/html": [
       "2180.6640625"
      ],
      "text/plain": [
       "2180.6640625"
      ]
     },
     "execution_count": 23,
     "metadata": {},
     "output_type": "execute_result"
    }
   ],
   "source": [
    "prob = win_unfinished_game(5, 6) #for the player with Heads\n",
    "#Money should be splitted like this\n",
    "H_share_of_money = Float64(prob*3500)"
   ]
  },
  {
   "cell_type": "markdown",
   "metadata": {},
   "source": [
    "## 10. Consider a gambling game consisting of tossing a coin. Player H wins the game if 14 heads come up, and T wins if 14 tails come up. If the game is interrupted when H has 8 heads and T has 7 tails, what is the probability of player T winning the game?"
   ]
  },
  {
   "cell_type": "code",
   "execution_count": 24,
   "metadata": {
    "collapsed": false
   },
   "outputs": [
    {
     "data": {
      "text/html": [
       "793//2048"
      ],
      "text/plain": [
       "793//2048"
      ]
     },
     "execution_count": 24,
     "metadata": {},
     "output_type": "execute_result"
    }
   ],
   "source": [
    "prob = win_unfinished_game(6, 7) #for the player with Heads\n",
    "probT = 1-prob"
   ]
  },
  {
   "cell_type": "markdown",
   "metadata": {},
   "source": [
    "## Probability Distribution Questions"
   ]
  },
  {
   "cell_type": "code",
   "execution_count": 25,
   "metadata": {
    "collapsed": true
   },
   "outputs": [],
   "source": [
    "type ProbDist\n",
    "    dict::Dict{String,Float64}\n",
    "    function ProbDist(ps::Array{Pair{String,Float64},1})\n",
    "        n=length(ps)\n",
    "        probs=Vector{Float64}(n)\n",
    "        vals=[x[2] for x in ps]\n",
    "        tot=sum(vals)\n",
    "        map!(x->x/tot,probs,vals)\n",
    "        @assert all(probs.>=0)\n",
    "        new(Dict((ps[i][1],probs[i]) for i in 1:n))\n",
    "    end\n",
    "    function ProbDist(;l...)\n",
    "        ProbDist([Pair(string(x[1]),float(x[2])) for x in l])\n",
    "    end\n",
    "end"
   ]
  },
  {
   "cell_type": "code",
   "execution_count": 26,
   "metadata": {
    "collapsed": true
   },
   "outputs": [],
   "source": [
    "import Base.getindex\n",
    "getindex(ProbDist,i)=ProbDist.dict[i];"
   ]
  },
  {
   "cell_type": "code",
   "execution_count": 27,
   "metadata": {
    "collapsed": false
   },
   "outputs": [
    {
     "data": {
      "text/plain": [
       "diceThrowing"
      ]
     },
     "execution_count": 27,
     "metadata": {},
     "output_type": "execute_result"
    }
   ],
   "source": [
    "function diceThrowing(steps)\n",
    "\n",
    "    function diceThrowingTask()\n",
    "        for _=1:steps\n",
    "            d1, d2 = rand(1:6), rand(1:6)\n",
    "            diceSum = d1+d2\n",
    "            produce(diceSum)\n",
    "        end\n",
    "    end\n",
    "    Task(diceThrowingTask)\n",
    "end\n"
   ]
  },
  {
   "cell_type": "code",
   "execution_count": 28,
   "metadata": {
    "collapsed": true
   },
   "outputs": [],
   "source": [
    "using StatsBase"
   ]
  },
  {
   "cell_type": "markdown",
   "metadata": {},
   "source": [
    "## 1. After throwing two dices for 10^6 times:\n",
    "    a. What is the estimate of the probability of getting 7 as the sum of two dices?\n",
    "    b. If you were betting, which number would you choose to bet on?"
   ]
  },
  {
   "cell_type": "code",
   "execution_count": 29,
   "metadata": {
    "collapsed": false
   },
   "outputs": [
    {
     "data": {
      "text/html": [
       "0.166908"
      ],
      "text/plain": [
       "0.166908"
      ]
     },
     "execution_count": 29,
     "metadata": {},
     "output_type": "execute_result"
    }
   ],
   "source": [
    "#a\n",
    "results = collect(diceThrowing(10^6));\n",
    "distribution = ProbDist([Pair(string(a[1]),float(a[2])) for a in countmap(results)]).dict;\n",
    "distribution[\"7\"] \n",
    "#If we need a really accurate probability we need to run the function for many times and get the average for each value, \n",
    "#but for simplicity we won't consider that"
   ]
  },
  {
   "cell_type": "code",
   "execution_count": 42,
   "metadata": {
    "collapsed": false
   },
   "outputs": [
    {
     "data": {
      "image/png": "[encoded data removed]",
      "text/plain": [
       "PyPlot.Figure(PyObject <matplotlib.figure.Figure object at 0x0000000021FDF4A8>)"
      ]
     },
     "metadata": {},
     "output_type": "display_data"
    },
    {
     "data": {
      "text/plain": [
       "13-element Array{Any,1}:\n",
       " PyObject <matplotlib.axis.XTick object at 0x0000000023FAD128>\n",
       " PyObject <matplotlib.axis.XTick object at 0x0000000024BC4FD0>\n",
       " PyObject <matplotlib.axis.XTick object at 0x0000000021F186D8>\n",
       " PyObject <matplotlib.axis.XTick object at 0x0000000021DBE400>\n",
       " PyObject <matplotlib.axis.XTick object at 0x0000000021E086D8>\n",
       " PyObject <matplotlib.axis.XTick object at 0x0000000021E08588>\n",
       " PyObject <matplotlib.axis.XTick object at 0x0000000021E08240>\n",
       " PyObject <matplotlib.axis.XTick object at 0x0000000021DEB3C8>\n",
       " PyObject <matplotlib.axis.XTick object at 0x0000000021DEB5F8>\n",
       " PyObject <matplotlib.axis.XTick object at 0x0000000021F226D8>\n",
       " PyObject <matplotlib.axis.XTick object at 0x0000000021F22358>\n",
       " PyObject <matplotlib.axis.XTick object at 0x0000000021DFCF60>\n",
       " PyObject <matplotlib.axis.XTick object at 0x0000000021DFCEF0>"
      ]
     },
     "execution_count": 42,
     "metadata": {},
     "output_type": "execute_result"
    }
   ],
   "source": [
    "#b\n",
    "using PyPlot\n",
    "figure(\"hist\",figsize=(5,3))\n",
    "ax=axes()\n",
    "#axis([1 ,13, 0 ,200000])\n",
    "ax[:hist](results, bins=11);\n",
    "ax[:set_xticks]([1:13...])\n"
   ]
  },
  {
   "cell_type": "code",
   "execution_count": 48,
   "metadata": {
    "collapsed": false
   },
   "outputs": [
    {
     "name": "stdout",
     "output_type": "stream",
     "text": [
      "Dict(\"4\"=>0.08179,\"12\"=>0.02775,\"2\"=>0.02782,\"6\"=>0.13956,\"11\"=>0.05611,\"5\"=>0.11064,\"7\"=>0.16911,\"8\"=>0.13846,\"10\"=>0.08382,\"9\"=>0.10965,\"3\"=>0.05529)\n"
     ]
    },
    {
     "data": {
      "text/plain": [
       "(0.16911,7)"
      ]
     },
     "execution_count": 48,
     "metadata": {},
     "output_type": "execute_result"
    }
   ],
   "source": [
    "#Or another way to solve b\n",
    "println(distribution)\n",
    "#after printing the distribution we found that getting 7 is the most probable\n",
    "#or implement the following line\n",
    "findmax(values(distribution))"
   ]
  },
  {
   "cell_type": "markdown",
   "metadata": {},
   "source": [
    "## 2. After throwing 2 dices for 10^6 times:\n",
    "    a. What is the estimate of the probability of getting 8 as the sum of two dices?\n",
    "    b. If you were betting, which number would you choose to bet on?"
   ]
  },
  {
   "cell_type": "code",
   "execution_count": 43,
   "metadata": {
    "collapsed": false
   },
   "outputs": [
    {
     "data": {
      "text/html": [
       "0.138995"
      ],
      "text/plain": [
       "0.138995"
      ]
     },
     "execution_count": 43,
     "metadata": {},
     "output_type": "execute_result"
    }
   ],
   "source": [
    "#a\n",
    "results = collect(diceThrowing(10^6));\n",
    "distribution = ProbDist([Pair(string(a[1]),float(a[2])) for a in countmap(results)]).dict;\n",
    "distribution[\"8\"]"
   ]
  },
  {
   "cell_type": "code",
   "execution_count": 49,
   "metadata": {
    "collapsed": true
   },
   "outputs": [],
   "source": [
    "#b \n",
    "#You either draw a histogram or print the distribution or implement findmax(values(distribution)) ...\n",
    "#we found that getting 7 is the most probable"
   ]
  },
  {
   "cell_type": "markdown",
   "metadata": {},
   "source": [
    "## 3. After throwing two dices for 10^5 times:\n",
    "    a. What is the estimate of the probability of getting 12 as the sum of two dices?\n",
    "    b. If you were betting, which number would you choose to bet on?"
   ]
  },
  {
   "cell_type": "code",
   "execution_count": 44,
   "metadata": {
    "collapsed": false
   },
   "outputs": [
    {
     "data": {
      "text/html": [
       "0.02775"
      ],
      "text/plain": [
       "0.02775"
      ]
     },
     "execution_count": 44,
     "metadata": {},
     "output_type": "execute_result"
    }
   ],
   "source": [
    "#a\n",
    "results = collect(diceThrowing(10^5));\n",
    "distribution = ProbDist([Pair(string(a[1]),float(a[2])) for a in countmap(results)]).dict;\n",
    "distribution[\"12\"]"
   ]
  },
  {
   "cell_type": "code",
   "execution_count": 50,
   "metadata": {
    "collapsed": false
   },
   "outputs": [],
   "source": [
    "#b \n",
    "#You either draw a histogram or print the distribution or implement findmax(values(distribution)) ...\n",
    "#we found that getting 7 is the most probable"
   ]
  },
  {
   "cell_type": "markdown",
   "metadata": {},
   "source": [
    "## 4. After throwing two dices for 10^5 times:\n",
    "    a. What is the estimate of the probability of getting 5 as the sum of two dices?\n",
    "    b. If you were betting, which number would you choose to bet on?"
   ]
  },
  {
   "cell_type": "code",
   "execution_count": 31,
   "metadata": {
    "collapsed": false
   },
   "outputs": [
    {
     "data": {
      "text/html": [
       "0.1098"
      ],
      "text/plain": [
       "0.1098"
      ]
     },
     "execution_count": 31,
     "metadata": {},
     "output_type": "execute_result"
    }
   ],
   "source": [
    "#a\n",
    "results = collect(diceThrowing(10^5));\n",
    "distribution = ProbDist([Pair(string(a[1]),float(a[2])) for a in countmap(results)]).dict;\n",
    "distribution[\"5\"]"
   ]
  },
  {
   "cell_type": "code",
   "execution_count": 51,
   "metadata": {
    "collapsed": true
   },
   "outputs": [],
   "source": [
    "#b \n",
    "#You either draw a histogram or print the distribution or implement findmax(values(distribution)) ...\n",
    "#we found that getting 7 is the most probable"
   ]
  },
  {
   "cell_type": "markdown",
   "metadata": {},
   "source": [
    "## 5. After throwing two dices for 10^5 times:\n",
    "    a. What is the estimate of the probability of getting 6 as the sum of two dices?\n",
    "    b. If you were betting, which number would you choose to bet on?"
   ]
  },
  {
   "cell_type": "code",
   "execution_count": 52,
   "metadata": {
    "collapsed": false
   },
   "outputs": [
    {
     "data": {
      "text/html": [
       "0.13954"
      ],
      "text/plain": [
       "0.13954"
      ]
     },
     "execution_count": 52,
     "metadata": {},
     "output_type": "execute_result"
    }
   ],
   "source": [
    "#a\n",
    "results = collect(diceThrowing(10^5));\n",
    "distribution = ProbDist([Pair(string(a[1]),float(a[2])) for a in countmap(results)]).dict;\n",
    "distribution[\"6\"]"
   ]
  },
  {
   "cell_type": "code",
   "execution_count": 53,
   "metadata": {
    "collapsed": false
   },
   "outputs": [
    {
     "data": {
      "text/plain": [
       "(0.16698,7)"
      ]
     },
     "execution_count": 53,
     "metadata": {},
     "output_type": "execute_result"
    }
   ],
   "source": [
    "#b \n",
    "#You either draw a histogram or print the distribution or implement findmax(values(distribution)) ...\n",
    "#we found that getting 7 is the most probable\n",
    "findmax(values(distribution))"
   ]
  },
  {
   "cell_type": "markdown",
   "metadata": {},
   "source": [
    "## 6. After throwing two dices for 10^7 times:\n",
    "    a. What is the estimate of the probability of getting 2 as the sum of two dices?\n",
    "    b. If you were betting, which number would you choose to bet on?"
   ]
  },
  {
   "cell_type": "code",
   "execution_count": 37,
   "metadata": {
    "collapsed": false
   },
   "outputs": [
    {
     "data": {
      "text/html": [
       "0.0277633"
      ],
      "text/plain": [
       "0.0277633"
      ]
     },
     "execution_count": 37,
     "metadata": {},
     "output_type": "execute_result"
    }
   ],
   "source": [
    "#a\n",
    "results = collect(diceThrowing(10^7));\n",
    "distribution = ProbDist([Pair(string(a[1]),float(a[2])) for a in countmap(results)]).dict;\n",
    "distribution[\"2\"]"
   ]
  },
  {
   "cell_type": "code",
   "execution_count": 54,
   "metadata": {
    "collapsed": false
   },
   "outputs": [
    {
     "data": {
      "text/plain": [
       "(0.16698,7)"
      ]
     },
     "execution_count": 54,
     "metadata": {},
     "output_type": "execute_result"
    }
   ],
   "source": [
    "#b \n",
    "#You either draw a histogram or print the distribution or implement findmax(values(distribution)) ...\n",
    "#we found that getting 7 is the most probable\n",
    "findmax(values(distribution))"
   ]
  },
  {
   "cell_type": "markdown",
   "metadata": {},
   "source": [
    "## 7. After throwing two dices for 10^7 times:\n",
    "    a. What is the estimate of the probability of getting 3 as the sum of two dices?\n",
    "    b. If you were betting, which number would you choose to bet on?"
   ]
  },
  {
   "cell_type": "code",
   "execution_count": 39,
   "metadata": {
    "collapsed": false
   },
   "outputs": [
    {
     "data": {
      "text/html": [
       "0.0555324"
      ],
      "text/plain": [
       "0.0555324"
      ]
     },
     "execution_count": 39,
     "metadata": {},
     "output_type": "execute_result"
    }
   ],
   "source": [
    "#a\n",
    "results = collect(diceThrowing(10^7));\n",
    "distribution = ProbDist([Pair(string(a[1]),float(a[2])) for a in countmap(results)]).dict;\n",
    "distribution[\"3\"]"
   ]
  },
  {
   "cell_type": "code",
   "execution_count": 55,
   "metadata": {
    "collapsed": true
   },
   "outputs": [],
   "source": [
    "#b \n",
    "#You either draw a histogram or print the distribution or implement findmax(values(distribution)) ...\n",
    "#we found that getting 7 is the most probable"
   ]
  },
  {
   "cell_type": "markdown",
   "metadata": {},
   "source": [
    "## 8. After throwing two dices for 10^6 times:\n",
    "    a. What is the estimate of the probability of getting 5 as the sum of two dices?\n",
    "    b. If you were betting, which number would you choose to bet on?"
   ]
  },
  {
   "cell_type": "code",
   "execution_count": 41,
   "metadata": {
    "collapsed": false
   },
   "outputs": [
    {
     "data": {
      "text/html": [
       "0.111356"
      ],
      "text/plain": [
       "0.111356"
      ]
     },
     "execution_count": 41,
     "metadata": {},
     "output_type": "execute_result"
    }
   ],
   "source": [
    "#a\n",
    "results = collect(diceThrowing(10^6));\n",
    "distribution = ProbDist([Pair(string(a[1]),float(a[2])) for a in countmap(results)]).dict;\n",
    "distribution[\"5\"]"
   ]
  },
  {
   "cell_type": "code",
   "execution_count": 56,
   "metadata": {
    "collapsed": true
   },
   "outputs": [],
   "source": [
    "#b \n",
    "#You either draw a histogram or print the distribution or implement findmax(values(distribution)) ...\n",
    "#we found that getting 7 is the most probable"
   ]
  },
  {
   "cell_type": "markdown",
   "metadata": {},
   "source": [
    "## 9. After throwing two dices for 10^6 times:\n",
    "    a. What is the estimate of the probability of getting 4 as the sum of two dices?\n",
    "    b. If you were betting, which number would you choose to bet on?"
   ]
  },
  {
   "cell_type": "code",
   "execution_count": 42,
   "metadata": {
    "collapsed": false
   },
   "outputs": [
    {
     "data": {
      "text/html": [
       "0.082705"
      ],
      "text/plain": [
       "0.082705"
      ]
     },
     "execution_count": 42,
     "metadata": {},
     "output_type": "execute_result"
    }
   ],
   "source": [
    "#a\n",
    "results = collect(diceThrowing(10^6));\n",
    "distribution = ProbDist([Pair(string(a[1]),float(a[2])) for a in countmap(results)]).dict;\n",
    "distribution[\"4\"]"
   ]
  },
  {
   "cell_type": "code",
   "execution_count": 57,
   "metadata": {
    "collapsed": true
   },
   "outputs": [],
   "source": [
    "#b \n",
    "#You either draw a histogram or print the distribution or implement findmax(values(distribution)) ...\n",
    "#we found that getting 7 is the most probable"
   ]
  },
  {
   "cell_type": "markdown",
   "metadata": {},
   "source": [
    "## 10. After throwing 2 dices for 10^7 times:\n",
    "    a. What is the estimate of the probability of getting 10 as the sum of two dices?\n",
    "    b. If you were betting, which number would you choose to bet on?"
   ]
  },
  {
   "cell_type": "code",
   "execution_count": 43,
   "metadata": {
    "collapsed": false
   },
   "outputs": [
    {
     "data": {
      "text/html": [
       "0.0833183"
      ],
      "text/plain": [
       "0.0833183"
      ]
     },
     "execution_count": 43,
     "metadata": {},
     "output_type": "execute_result"
    }
   ],
   "source": [
    "#a\n",
    "results = collect(diceThrowing(10^7));\n",
    "distribution = ProbDist([Pair(string(a[1]),float(a[2])) for a in countmap(results)]).dict;\n",
    "distribution[\"10\"]"
   ]
  },
  {
   "cell_type": "code",
   "execution_count": null,
   "metadata": {
    "collapsed": true
   },
   "outputs": [],
   "source": [
    "#b \n",
    "#You either draw a histogram or print the distribution or implement findmax(values(distribution)) ...\n",
    "#we found that getting 7 is the most probable"
   ]
  }
 ],
 "metadata": {
  "kernelspec": {
   "display_name": "Julia 0.5.0",
   "language": "julia",
   "name": "julia-0.5"
  },
  "language_info": {
   "file_extension": ".jl",
   "mimetype": "application/julia",
   "name": "julia",
   "version": "0.5.0"
  }
 },
 "nbformat": 4,
 "nbformat_minor": 0
}
