{
 "cells": [
  {
   "cell_type": "markdown",
   "metadata": {},
   "source": [
    "### Q1--Using the first definition of probability, write code to calculate the probability of getting a 4 or 1 or 2 on dice throw"
   ]
  },
  {
   "cell_type": "code",
   "execution_count": 1,
   "metadata": {
    "collapsed": true
   },
   "outputs": [],
   "source": [
    "\"The probability of an event, given a sample space of equiprobable outcomes.\"\n",
    "P(event, space)=length(intersect(event,space))//length(space);"
   ]
  },
  {
   "cell_type": "code",
   "execution_count": 2,
   "metadata": {
    "collapsed": false
   },
   "outputs": [
    {
     "data": {
      "text/plain": [
       "1//2"
      ]
     },
     "execution_count": 2,
     "metadata": {},
     "output_type": "execute_result"
    }
   ],
   "source": [
    "D = [1, 2, 3, 4, 5, 6];\n",
    "event = [1, 2, 4]\n",
    "\n",
    "P(event, D)"
   ]
  },
  {
   "cell_type": "markdown",
   "metadata": {},
   "source": [
    "### Q2--Write code the obtain the intersection between sets {1,5,4,2,3,7} and {1,4,8,10,2}."
   ]
  },
  {
   "cell_type": "code",
   "execution_count": 3,
   "metadata": {
    "collapsed": false
   },
   "outputs": [
    {
     "data": {
      "text/plain": [
       "3-element Array{Int64,1}:\n",
       " 1\n",
       " 4\n",
       " 2"
      ]
     },
     "execution_count": 3,
     "metadata": {},
     "output_type": "execute_result"
    }
   ],
   "source": [
    "s1 = [1,5,4,2,3,7]\n",
    "s2 = [1,4,8,10,2]\n",
    "intersect(s1,s2)"
   ]
  },
  {
   "cell_type": "markdown",
   "metadata": {},
   "source": [
    "### Q3--Write code to define a class Paper with with attributes color and size. The former is to be represented by a character and latter by an integer."
   ]
  },
  {
   "cell_type": "code",
   "execution_count": 4,
   "metadata": {
    "collapsed": false
   },
   "outputs": [],
   "source": [
    "immutable Paper{TC,TS}\n",
    "    color::TC\n",
    "    size::TS\n",
    "end\n",
    "\n",
    "#Class can be without any specific type like this:\n",
    "immutable Paper2\n",
    "    color\n",
    "    size\n",
    "end\n",
    "\n",
    "\n",
    "#Class variables can be restricted to specific data type like this:\n",
    "immutable Paper3\n",
    "    color::Char\n",
    "    size ::Int64\n",
    "end"
   ]
  },
  {
   "cell_type": "markdown",
   "metadata": {},
   "source": [
    "### Q4--Using (3) create and object with color R and size 4"
   ]
  },
  {
   "cell_type": "code",
   "execution_count": 5,
   "metadata": {
    "collapsed": false
   },
   "outputs": [
    {
     "data": {
      "text/plain": [
       "Paper{Char,Int64}('R',4)"
      ]
     },
     "execution_count": 5,
     "metadata": {},
     "output_type": "execute_result"
    }
   ],
   "source": [
    "p1=Paper('R',4)"
   ]
  },
  {
   "cell_type": "code",
   "execution_count": 6,
   "metadata": {
    "collapsed": false
   },
   "outputs": [
    {
     "data": {
      "text/plain": [
       "Paper2('R',4)"
      ]
     },
     "execution_count": 6,
     "metadata": {},
     "output_type": "execute_result"
    }
   ],
   "source": [
    "p2 = Paper2('R',4)"
   ]
  },
  {
   "cell_type": "code",
   "execution_count": 7,
   "metadata": {
    "collapsed": false
   },
   "outputs": [
    {
     "data": {
      "text/plain": [
       "Paper2(4,'R')"
      ]
     },
     "execution_count": 7,
     "metadata": {},
     "output_type": "execute_result"
    }
   ],
   "source": [
    "p3 = Paper2(4,'R')"
   ]
  },
  {
   "cell_type": "code",
   "execution_count": 8,
   "metadata": {
    "collapsed": false
   },
   "outputs": [
    {
     "data": {
      "text/plain": [
       "Char"
      ]
     },
     "execution_count": 8,
     "metadata": {},
     "output_type": "execute_result"
    }
   ],
   "source": [
    "p4 = Paper3(4,5)\n",
    "typeof(p4.color)"
   ]
  },
  {
   "cell_type": "markdown",
   "metadata": {},
   "source": [
    "### Q5--Using (3) write code that can modify the way Paper is printed"
   ]
  },
  {
   "cell_type": "code",
   "execution_count": 9,
   "metadata": {
    "collapsed": false
   },
   "outputs": [
    {
     "name": "stdout",
     "output_type": "stream",
     "text": [
      "R4\n"
     ]
    }
   ],
   "source": [
    "import Base.string, Base.print,Base.show #So that they print nicely \n",
    "string(p::Paper)=\"$(p.color)$(p.size)\"\n",
    "print(io::IO, x::Paper) = print(io, string(x))\n",
    "show(io::IO, x::Paper) = print(io,  x)\n",
    "println(p1)"
   ]
  },
  {
   "cell_type": "markdown",
   "metadata": {},
   "source": [
    "### Q6--Create an array of Paper object with all combinations of sizes from 1 to 5 and color R, G, B, and W."
   ]
  },
  {
   "cell_type": "code",
   "execution_count": 10,
   "metadata": {
    "collapsed": false
   },
   "outputs": [
    {
     "data": {
      "text/plain": [
       "labeled_paper"
      ]
     },
     "execution_count": 10,
     "metadata": {},
     "output_type": "execute_result"
    }
   ],
   "source": [
    "\"generates a list of papers with color c and and sizes from 1 to n\"\n",
    "labeled_paper(c,n)=[Paper(c,s) for s in 1:n]\n",
    "\n"
   ]
  },
  {
   "cell_type": "code",
   "execution_count": 11,
   "metadata": {
    "collapsed": false
   },
   "outputs": [
    {
     "data": {
      "text/plain": [
       "5-element Array{Paper{Char,Int64},1}:\n",
       " R1\n",
       " R2\n",
       " R3\n",
       " R4\n",
       " R5"
      ]
     },
     "execution_count": 11,
     "metadata": {},
     "output_type": "execute_result"
    }
   ],
   "source": [
    "labeled_paper('R',5)"
   ]
  },
  {
   "cell_type": "code",
   "execution_count": 12,
   "metadata": {
    "collapsed": false
   },
   "outputs": [
    {
     "data": {
      "text/plain": [
       "20-element Array{Paper{Char,Int64},1}:\n",
       " R1\n",
       " R2\n",
       " R3\n",
       " R4\n",
       " R5\n",
       " G1\n",
       " G2\n",
       " G3\n",
       " G4\n",
       " G5\n",
       " B1\n",
       " B2\n",
       " B3\n",
       " B4\n",
       " B5\n",
       " W1\n",
       " W2\n",
       " W3\n",
       " W4\n",
       " W5"
      ]
     },
     "execution_count": 12,
     "metadata": {},
     "output_type": "execute_result"
    }
   ],
   "source": [
    "allPaper=[labeled_paper('R', 5); labeled_paper('G', 5) ; labeled_paper('B', 5);labeled_paper('W', 5)]"
   ]
  },
  {
   "cell_type": "code",
   "execution_count": 13,
   "metadata": {
    "collapsed": false
   },
   "outputs": [
    {
     "data": {
      "text/plain": [
       "20-element Array{Paper{Char,Int64},1}:\n",
       " R1\n",
       " R2\n",
       " R3\n",
       " R4\n",
       " R5\n",
       " G1\n",
       " G2\n",
       " G3\n",
       " G4\n",
       " G5\n",
       " B1\n",
       " B2\n",
       " B3\n",
       " B4\n",
       " B5\n",
       " W1\n",
       " W2\n",
       " W3\n",
       " W4\n",
       " W5"
      ]
     },
     "execution_count": 13,
     "metadata": {},
     "output_type": "execute_result"
    }
   ],
   "source": [
    "#Another solution\n",
    "colors = \"RGBW\"\n",
    "n= 5\n",
    "numberedPapers=[Paper(c,s) for c in colors for s in 1:n]"
   ]
  },
  {
   "cell_type": "code",
   "execution_count": 14,
   "metadata": {
    "collapsed": false
   },
   "outputs": [
    {
     "name": "stderr",
     "output_type": "stream",
     "text": [
      "WARNING: Method definition labeled_paper(Any, Any) in module Main at In[10]:2 overwritten at In[14]:2.\n"
     ]
    },
    {
     "data": {
      "text/plain": [
       "20-element Array{Paper{Char,Int64},1}:\n",
       " R1\n",
       " R2\n",
       " R3\n",
       " R4\n",
       " R5\n",
       " G1\n",
       " G2\n",
       " G3\n",
       " G4\n",
       " G5\n",
       " B1\n",
       " B2\n",
       " B3\n",
       " B4\n",
       " B5\n",
       " W1\n",
       " W2\n",
       " W3\n",
       " W4\n",
       " W5"
      ]
     },
     "execution_count": 14,
     "metadata": {},
     "output_type": "execute_result"
    }
   ],
   "source": [
    "#Another solution\n",
    "labeled_paper(colours,sizes)=[Paper(c,s) for c in colours for s in sizes]\n",
    "allPaper=labeled_paper(\"RGBW\",1:5)"
   ]
  },
  {
   "cell_type": "code",
   "execution_count": 15,
   "metadata": {
    "collapsed": false
   },
   "outputs": [],
   "source": [
    "#Another solution\n",
    "n=5\n",
    "r = \"RGWB\"\n",
    "arr = []\n",
    "for i = 1:n\n",
    "    for j=1:length(r)\n",
    "        p5 = Paper(r[j],i)\n",
    "        push!(arr,p5)\n",
    "    end\n",
    "end"
   ]
  },
  {
   "cell_type": "code",
   "execution_count": 16,
   "metadata": {
    "collapsed": false
   },
   "outputs": [
    {
     "name": "stdout",
     "output_type": "stream",
     "text": [
      "Any[R1,G1,W1,B1,R2,G2,W2,B2,R3,G3,W3,B3,R4,G4,W4,B4,R5,G5,W5,B5]\n"
     ]
    }
   ],
   "source": [
    "println(arr)"
   ]
  },
  {
   "cell_type": "markdown",
   "metadata": {},
   "source": [
    "### Q7---Using code, calculate the probability of drawing at random from the array in (6) a paper of size 3 or greater."
   ]
  },
  {
   "cell_type": "code",
   "execution_count": 17,
   "metadata": {
    "collapsed": false
   },
   "outputs": [
    {
     "data": {
      "text/plain": [
       "3//5"
      ]
     },
     "execution_count": 17,
     "metadata": {},
     "output_type": "execute_result"
    }
   ],
   "source": [
    "count_paper_size(l,s)=count(x->x.size>=s,l)\n",
    "P_size_greater3=count_paper_size(allPaper,3)//length(allPaper)\n"
   ]
  },
  {
   "cell_type": "markdown",
   "metadata": {},
   "source": [
    "### Q8--Using what we covered in class, determine if 48112959837082048697 is a prime number."
   ]
  },
  {
   "cell_type": "code",
   "execution_count": 18,
   "metadata": {
    "collapsed": false
   },
   "outputs": [],
   "source": [
    "#Pkg.add(\"Primes\")\n",
    "using Primes"
   ]
  },
  {
   "cell_type": "code",
   "execution_count": 19,
   "metadata": {
    "collapsed": false
   },
   "outputs": [
    {
     "data": {
      "text/plain": [
       "true"
      ]
     },
     "execution_count": 19,
     "metadata": {},
     "output_type": "execute_result"
    }
   ],
   "source": [
    "isprime(48112959837082048697)\n"
   ]
  },
  {
   "cell_type": "markdown",
   "metadata": {},
   "source": [
    "### Q9--Write code to COUNT all the numbers that are both divisible by 3 and 7 in the range from 1 to 10000"
   ]
  },
  {
   "cell_type": "code",
   "execution_count": 20,
   "metadata": {
    "collapsed": false
   },
   "outputs": [
    {
     "data": {
      "text/plain": [
       "476"
      ]
     },
     "execution_count": 20,
     "metadata": {},
     "output_type": "execute_result"
    }
   ],
   "source": [
    "x=1:10000\n",
    "count(q->q%7==0 && q%3==0,x)"
   ]
  },
  {
   "cell_type": "markdown",
   "metadata": {},
   "source": [
    "### Q10--Write code to obtain all the numbers that are both divisible by 3 and 7 in the range from 1 to 10000 in an array."
   ]
  },
  {
   "cell_type": "code",
   "execution_count": 21,
   "metadata": {
    "collapsed": false
   },
   "outputs": [
    {
     "data": {
      "text/plain": [
       "476-element Array{Int64,1}:\n",
       "   21\n",
       "   42\n",
       "   63\n",
       "   84\n",
       "  105\n",
       "  126\n",
       "  147\n",
       "  168\n",
       "  189\n",
       "  210\n",
       "  231\n",
       "  252\n",
       "  273\n",
       "    ⋮\n",
       " 9765\n",
       " 9786\n",
       " 9807\n",
       " 9828\n",
       " 9849\n",
       " 9870\n",
       " 9891\n",
       " 9912\n",
       " 9933\n",
       " 9954\n",
       " 9975\n",
       " 9996"
      ]
     },
     "execution_count": 21,
     "metadata": {},
     "output_type": "execute_result"
    }
   ],
   "source": [
    "x=1:10000\n",
    "arr=[x[i] for i in x if (x[i]%7== 0&& x[i]%3==0)]"
   ]
  },
  {
   "cell_type": "code",
   "execution_count": 22,
   "metadata": {
    "collapsed": false
   },
   "outputs": [
    {
     "data": {
      "text/plain": [
       "476-element Array{Any,1}:\n",
       "   21\n",
       "   42\n",
       "   63\n",
       "   84\n",
       "  105\n",
       "  126\n",
       "  147\n",
       "  168\n",
       "  189\n",
       "  210\n",
       "  231\n",
       "  252\n",
       "  273\n",
       "    ⋮\n",
       " 9765\n",
       " 9786\n",
       " 9807\n",
       " 9828\n",
       " 9849\n",
       " 9870\n",
       " 9891\n",
       " 9912\n",
       " 9933\n",
       " 9954\n",
       " 9975\n",
       " 9996"
      ]
     },
     "execution_count": 22,
     "metadata": {},
     "output_type": "execute_result"
    }
   ],
   "source": [
    "#Another solution\n",
    "arr = []\n",
    "for i in 1:10000\n",
    "    if i%7==0 && i%3==0\n",
    "        push!(arr,i)\n",
    "    end\n",
    "end\n",
    "arr"
   ]
  },
  {
   "cell_type": "code",
   "execution_count": 23,
   "metadata": {
    "collapsed": false
   },
   "outputs": [
    {
     "data": {
      "text/plain": [
       "476-element Array{Int64,1}:\n",
       "   21\n",
       "   42\n",
       "   63\n",
       "   84\n",
       "  105\n",
       "  126\n",
       "  147\n",
       "  168\n",
       "  189\n",
       "  210\n",
       "  231\n",
       "  252\n",
       "  273\n",
       "    ⋮\n",
       " 9765\n",
       " 9786\n",
       " 9807\n",
       " 9828\n",
       " 9849\n",
       " 9870\n",
       " 9891\n",
       " 9912\n",
       " 9933\n",
       " 9954\n",
       " 9975\n",
       " 9996"
      ]
     },
     "execution_count": 23,
     "metadata": {},
     "output_type": "execute_result"
    }
   ],
   "source": [
    "#Another Solution\n",
    "filter(q->q%7==0&&q%3==0,x)"
   ]
  },
  {
   "cell_type": "markdown",
   "metadata": {},
   "source": [
    "### Q11,12--Using the ball example. If were to draw 7 balls from the urn, what is the probability of getting 2 W, 4 B and R. Similar to (11), what is the probability of drawing 3 W and 4 R."
   ]
  },
  {
   "cell_type": "code",
   "execution_count": 24,
   "metadata": {
    "collapsed": false
   },
   "outputs": [
    {
     "data": {
      "text/plain": [
       "Ball"
      ]
     },
     "execution_count": 24,
     "metadata": {},
     "output_type": "execute_result"
    }
   ],
   "source": [
    "\"The set of ways of concatenating one item from collection A with one from B.\"\n",
    "immutable Ball{TC,TN}\n",
    "    color::TC\n",
    "    number::TN\n",
    "end\n"
   ]
  },
  {
   "cell_type": "code",
   "execution_count": 25,
   "metadata": {
    "collapsed": false
   },
   "outputs": [
    {
     "data": {
      "text/plain": [
       "show (generic function with 201 methods)"
      ]
     },
     "execution_count": 25,
     "metadata": {},
     "output_type": "execute_result"
    }
   ],
   "source": [
    "import Base.string, Base.print,Base.show #So that they print nicely \n",
    "string(b::Ball)=\"$(b.color)$(b.number)\"\n",
    "print(io::IO, x::Ball) = print(io, string(x))\n",
    "show(io::IO, x::Ball) = print(io,  x)"
   ]
  },
  {
   "cell_type": "code",
   "execution_count": 26,
   "metadata": {
    "collapsed": false
   },
   "outputs": [
    {
     "data": {
      "text/plain": [
       "labeled_balls"
      ]
     },
     "execution_count": 26,
     "metadata": {},
     "output_type": "execute_result"
    }
   ],
   "source": [
    "\"generates a list of balls with color c and and numbers from 1 to n\"\n",
    "labeled_balls(c,n)=[Ball(t[2],t[1]) for t in Base.product(1:n,c)]"
   ]
  },
  {
   "cell_type": "code",
   "execution_count": 27,
   "metadata": {
    "collapsed": false
   },
   "outputs": [
    {
     "data": {
      "text/plain": [
       "23×1 Array{Ball{Char,Int64},2}:\n",
       " W1\n",
       " W2\n",
       " W3\n",
       " W4\n",
       " W5\n",
       " W6\n",
       " W7\n",
       " W8\n",
       " B1\n",
       " B2\n",
       " B3\n",
       " B4\n",
       " B5\n",
       " B6\n",
       " R1\n",
       " R2\n",
       " R3\n",
       " R4\n",
       " R5\n",
       " R6\n",
       " R7\n",
       " R8\n",
       " R9"
      ]
     },
     "execution_count": 27,
     "metadata": {},
     "output_type": "execute_result"
    }
   ],
   "source": [
    "urn = [labeled_balls(\"W\", 8); labeled_balls(\"B\", 6) ; labeled_balls(\"R\", 9)]"
   ]
  },
  {
   "cell_type": "code",
   "execution_count": 28,
   "metadata": {
    "collapsed": false
   },
   "outputs": [],
   "source": [
    "using Combinatorics"
   ]
  },
  {
   "cell_type": "code",
   "execution_count": 34,
   "metadata": {
    "collapsed": false
   },
   "outputs": [
    {
     "name": "stderr",
     "output_type": "stream",
     "text": [
      "WARNING: Method definition combos(Any, Any) in module Main at In[29]:2"
     ]
    },
    {
     "data": {
      "text/html": [
       "245157"
      ],
      "text/plain": [
       "245157"
      ]
     },
     "execution_count": 34,
     "metadata": {},
     "output_type": "execute_result"
    },
    {
     "name": "stderr",
     "output_type": "stream",
     "text": [
      " overwritten at In[34]:2.\n"
     ]
    }
   ],
   "source": [
    "function combos(items, n)\n",
    "    combs=combinations(items,n)\n",
    "    collect(combs)\n",
    "end\n",
    "\n",
    "combos(urn,7)\n",
    "    \n",
    "U7 = combos(urn, 7) #If we were to draw 7 balls from the urn\n",
    "\n",
    "length(U7)"
   ]
  },
  {
   "cell_type": "code",
   "execution_count": 35,
   "metadata": {
    "collapsed": false
   },
   "outputs": [
    {
     "name": "stderr",
     "output_type": "stream",
     "text": [
      "WARNING: Method definition count_ball_color(Any, Any) in module Main at In[30]:2 overwritten at In[35]:2.\n",
      "\u001b[1m\u001b[31mWARNING: replacing docs for 'count_ball_color :: Tuple{Any,Any}' in module 'Main'.\u001b[0m\n",
      "WARNING: Method definition P(Any, Any) in module Main at In[30]:3 overwritten at In[35]:3.\n"
     ]
    }
   ],
   "source": [
    "\"counts the number of balls of color c in list l\"\n",
    "count_ball_color(l,c)=count(x->x.color==c,l)\n",
    "P(event, space)=length(intersect(event,space))//length(space);"
   ]
  },
  {
   "cell_type": "code",
   "execution_count": 36,
   "metadata": {
    "collapsed": false
   },
   "outputs": [
    {
     "data": {
      "text/html": [
       "1260//81719"
      ],
      "text/plain": [
       "1260//81719"
      ]
     },
     "execution_count": 36,
     "metadata": {},
     "output_type": "execute_result"
    }
   ],
   "source": [
    "#getting 2 W, 4 B and R.\n",
    "w2b4r1 = [s for s in U7 if\n",
    "    count_ball_color(s,'B') == 4 && count_ball_color(s,'W') == 2 && count_ball_color(s,'R') == 1]\n",
    "\n",
    "P(w2b4r1, U7)"
   ]
  },
  {
   "cell_type": "code",
   "execution_count": 37,
   "metadata": {
    "collapsed": false
   },
   "outputs": [
    {
     "data": {
      "text/html": [
       "2352//81719"
      ],
      "text/plain": [
       "2352//81719"
      ]
     },
     "execution_count": 37,
     "metadata": {},
     "output_type": "execute_result"
    }
   ],
   "source": [
    "# drawing 3 W and 4 R\n",
    "w3r4 = [s for s in U7 if count_ball_color(s,'W') == 3 && count_ball_color(s,'R') == 4]\n",
    "P(w3r4, U7)"
   ]
  },
  {
   "cell_type": "code",
   "execution_count": 38,
   "metadata": {
    "collapsed": false
   },
   "outputs": [
    {
     "name": "stdout",
     "output_type": "stream",
     "text": [
      "1260//81719\n",
      "2352//81719\n"
     ]
    }
   ],
   "source": [
    "#Another solution\n",
    "\n",
    "U7=collect(combinations(urn,7))\n",
    "len=binomial(8,2) * binomial(6,4) * binomial(9,1)\n",
    "println(len//length(U7))\n",
    "\n",
    "\n",
    "len2=binomial(8,3) * binomial(9,4)\n",
    "println(len2//length(U7)) "
   ]
  },
  {
   "cell_type": "code",
   "execution_count": null,
   "metadata": {
    "collapsed": true
   },
   "outputs": [],
   "source": []
  }
 ],
 "metadata": {
  "kernelspec": {
   "display_name": "Julia 0.5.0",
   "language": "julia",
   "name": "julia-0.5"
  },
  "language_info": {
   "file_extension": ".jl",
   "mimetype": "application/julia",
   "name": "julia",
   "version": "0.5.0"
  }
 },
 "nbformat": 4,
 "nbformat_minor": 2
}
