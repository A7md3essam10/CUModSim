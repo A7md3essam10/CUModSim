{
 "cells": [
  {
   "cell_type": "markdown",
   "metadata": {},
   "source": [
    "# Dealing with Probablity Distribtutions"
   ]
  },
  {
   "cell_type": "code",
   "execution_count": 1,
   "metadata": {
    "collapsed": false
   },
   "outputs": [],
   "source": [
    "using Distributions"
   ]
  },
  {
   "cell_type": "markdown",
   "metadata": {},
   "source": [
    "We start working with the _Bernoulli_ distribution. It represents a coin flip with some probability $p$."
   ]
  },
  {
   "cell_type": "code",
   "execution_count": 2,
   "metadata": {
    "collapsed": false
   },
   "outputs": [
    {
     "data": {
      "text/plain": [
       "Distributions.Bernoulli{Float64}(p=0.5)"
      ]
     },
     "execution_count": 2,
     "metadata": {},
     "output_type": "execute_result"
    }
   ],
   "source": [
    "p_b=Bernoulli(0.5)"
   ]
  },
  {
   "cell_type": "markdown",
   "metadata": {},
   "source": [
    "We task a large sample from our distribution."
   ]
  },
  {
   "cell_type": "code",
   "execution_count": 3,
   "metadata": {
    "collapsed": false
   },
   "outputs": [],
   "source": [
    "my_sample=rand(p_b,1000000);"
   ]
  },
  {
   "cell_type": "markdown",
   "metadata": {},
   "source": [
    "We verify that that sample mean pretty close to the specified mean. "
   ]
  },
  {
   "cell_type": "code",
   "execution_count": 4,
   "metadata": {
    "collapsed": false
   },
   "outputs": [
    {
     "data": {
      "text/plain": [
       "0.498612"
      ]
     },
     "execution_count": 4,
     "metadata": {},
     "output_type": "execute_result"
    }
   ],
   "source": [
    "mean(my_sample)"
   ]
  },
  {
   "cell_type": "markdown",
   "metadata": {},
   "source": [
    "We generate some data."
   ]
  },
  {
   "cell_type": "code",
   "execution_count": 5,
   "metadata": {
    "collapsed": false
   },
   "outputs": [
    {
     "data": {
      "text/plain": [
       "5-element Array{Int64,1}:\n",
       " 1\n",
       " 1\n",
       " 0\n",
       " 1\n",
       " 0"
      ]
     },
     "execution_count": 5,
     "metadata": {},
     "output_type": "execute_result"
    }
   ],
   "source": [
    "data=[1,1,0,1,0]"
   ]
  },
  {
   "cell_type": "markdown",
   "metadata": {},
   "source": [
    "We verifty use _maximum likelihood estimation_ to find the best fit for our data. "
   ]
  },
  {
   "cell_type": "code",
   "execution_count": 6,
   "metadata": {
    "collapsed": false
   },
   "outputs": [
    {
     "data": {
      "text/plain": [
       "Distributions.Bernoulli{Float64}(p=0.6)"
      ]
     },
     "execution_count": 6,
     "metadata": {},
     "output_type": "execute_result"
    }
   ],
   "source": [
    "my_dist=fit_mle(Bernoulli,data)"
   ]
  },
  {
   "cell_type": "markdown",
   "metadata": {},
   "source": [
    "The result above is unsurprising and makes sense. We have three heads in\n",
    "five tosses, that is: 3/5=0.6.\n",
    "\n",
    "Next we create _Bernoulli_ distribution with a low probabily. "
   ]
  },
  {
   "cell_type": "code",
   "execution_count": 7,
   "metadata": {
    "collapsed": false
   },
   "outputs": [
    {
     "data": {
      "text/plain": [
       "Distributions.Bernoulli{Float64}(p=0.1)"
      ]
     },
     "execution_count": 7,
     "metadata": {},
     "output_type": "execute_result"
    }
   ],
   "source": [
    "my_weak_b=Bernoulli(0.1)"
   ]
  },
  {
   "cell_type": "markdown",
   "metadata": {},
   "source": [
    "We take some samples from it. "
   ]
  },
  {
   "cell_type": "code",
   "execution_count": 8,
   "metadata": {
    "collapsed": false
   },
   "outputs": [],
   "source": [
    "my_samples=rand(my_weak_b,10000);"
   ]
  },
  {
   "cell_type": "markdown",
   "metadata": {},
   "source": [
    "We get the indices of when a head was observed, using `find`."
   ]
  },
  {
   "cell_type": "code",
   "execution_count": 9,
   "metadata": {
    "collapsed": false
   },
   "outputs": [
    {
     "data": {
      "text/plain": [
       "964-element Array{Int64,1}:\n",
       "    4\n",
       "   10\n",
       "   22\n",
       "   68\n",
       "   80\n",
       "   81\n",
       "   85\n",
       "   96\n",
       "  101\n",
       "  105\n",
       "  152\n",
       "  156\n",
       "  158\n",
       "    ⋮\n",
       " 9834\n",
       " 9842\n",
       " 9861\n",
       " 9882\n",
       " 9909\n",
       " 9912\n",
       " 9914\n",
       " 9946\n",
       " 9953\n",
       " 9975\n",
       " 9989\n",
       " 9999"
      ]
     },
     "execution_count": 9,
     "metadata": {},
     "output_type": "execute_result"
    }
   ],
   "source": [
    "locations_of_heads=find(my_samples.==1)"
   ]
  },
  {
   "cell_type": "markdown",
   "metadata": {},
   "source": [
    "We calculate the number of steps between the occurances of heads. "
   ]
  },
  {
   "cell_type": "code",
   "execution_count": 10,
   "metadata": {
    "collapsed": false
   },
   "outputs": [
    {
     "data": {
      "text/plain": [
       "963-element Array{Int64,1}:\n",
       "  6\n",
       " 12\n",
       " 46\n",
       " 12\n",
       "  1\n",
       "  4\n",
       " 11\n",
       "  5\n",
       "  4\n",
       " 47\n",
       "  4\n",
       "  2\n",
       "  5\n",
       "  ⋮\n",
       "  7\n",
       "  8\n",
       " 19\n",
       " 21\n",
       " 27\n",
       "  3\n",
       "  2\n",
       " 32\n",
       "  7\n",
       " 22\n",
       " 14\n",
       " 10"
      ]
     },
     "execution_count": 10,
     "metadata": {},
     "output_type": "execute_result"
    }
   ],
   "source": [
    "dist_b=[locations_of_heads[i+1]-locations_of_heads[i] for i =1:length(locations_of_heads)-1]"
   ]
  },
  {
   "cell_type": "markdown",
   "metadata": {},
   "source": [
    "We plot the distribution."
   ]
  },
  {
   "cell_type": "code",
   "execution_count": 11,
   "metadata": {
    "collapsed": false
   },
   "outputs": [
    {
     "data": {
      "image/png": "[encoded data removed]",
      "text/plain": [
       "PyPlot.Figure(PyObject <matplotlib.figure.Figure object at 0x7f87aac99ad0>)"
      ]
     },
     "metadata": {},
     "output_type": "display_data"
    }
   ],
   "source": [
    "using PyPlot\n",
    "ax=axes()\n",
    "ax[:hist](dist_b,14);"
   ]
  },
  {
   "cell_type": "markdown",
   "metadata": {},
   "source": [
    "We check the help for the _Geometric_ distribution."
   ]
  },
  {
   "cell_type": "code",
   "execution_count": 12,
   "metadata": {
    "collapsed": false
   },
   "outputs": [
    {
     "name": "stdout",
     "output_type": "stream",
     "text": [
      "search: \u001b[1mG\u001b[22m\u001b[1me\u001b[22m\u001b[1mo\u001b[22m\u001b[1mm\u001b[22m\u001b[1me\u001b[22m\u001b[1mt\u001b[22m\u001b[1mr\u001b[22m\u001b[1mi\u001b[22m\u001b[1mc\u001b[22m Hyper\u001b[1mg\u001b[22m\u001b[1me\u001b[22m\u001b[1mo\u001b[22m\u001b[1mm\u001b[22m\u001b[1me\u001b[22m\u001b[1mt\u001b[22m\u001b[1mr\u001b[22m\u001b[1mi\u001b[22m\u001b[1mc\u001b[22m NoncentralHyper\u001b[1mg\u001b[22m\u001b[1me\u001b[22m\u001b[1mo\u001b[22m\u001b[1mm\u001b[22m\u001b[1me\u001b[22m\u001b[1mt\u001b[22m\u001b[1mr\u001b[22m\u001b[1mi\u001b[22m\u001b[1mc\u001b[22m\n",
      "\n"
     ]
    },
    {
     "data": {
      "text/markdown": [
       "```\n",
       "Geometric(p)\n",
       "```\n",
       "\n",
       "A *Geometric distribution* characterizes the number of failures before the first success in a sequence of independent Bernoulli trials with success rate `p`.\n",
       "\n",
       "$$\n",
       "P(X = k) = p (1 - p)^k, \\quad \\text{for } k = 0, 1, 2, \\ldots.\n",
       "$$\n",
       "\n",
       "```julia\n",
       "Geometric()    # Geometric distribution with success rate 0.5\n",
       "Geometric(p)   # Geometric distribution with success rate p\n",
       "\n",
       "params(d)      # Get the parameters, i.e. (p,)\n",
       "succprob(d)    # Get the success rate, i.e. p\n",
       "failprob(d)    # Get the failure rate, i.e. 1 - p\n",
       "```\n",
       "\n",
       "External links\n",
       "\n",
       "  * [Geometric distribution on Wikipedia](http://en.wikipedia.org/wiki/Geometric_distribution)\n"
      ],
      "text/plain": [
       "```\n",
       "Geometric(p)\n",
       "```\n",
       "\n",
       "A *Geometric distribution* characterizes the number of failures before the first success in a sequence of independent Bernoulli trials with success rate `p`.\n",
       "\n",
       "$$\n",
       "P(X = k) = p (1 - p)^k, \\quad \\text{for } k = 0, 1, 2, \\ldots.\n",
       "$$\n",
       "\n",
       "```julia\n",
       "Geometric()    # Geometric distribution with success rate 0.5\n",
       "Geometric(p)   # Geometric distribution with success rate p\n",
       "\n",
       "params(d)      # Get the parameters, i.e. (p,)\n",
       "succprob(d)    # Get the success rate, i.e. p\n",
       "failprob(d)    # Get the failure rate, i.e. 1 - p\n",
       "```\n",
       "\n",
       "External links\n",
       "\n",
       "  * [Geometric distribution on Wikipedia](http://en.wikipedia.org/wiki/Geometric_distribution)\n"
      ]
     },
     "execution_count": 12,
     "metadata": {},
     "output_type": "execute_result"
    }
   ],
   "source": [
    "?Geometric"
   ]
  },
  {
   "cell_type": "markdown",
   "metadata": {},
   "source": [
    "We creat Geometric distribution with the same $p$ that we used before. "
   ]
  },
  {
   "cell_type": "code",
   "execution_count": 13,
   "metadata": {
    "collapsed": false
   },
   "outputs": [
    {
     "data": {
      "text/plain": [
       "Distributions.Geometric{Float64}(p=0.1)"
      ]
     },
     "execution_count": 13,
     "metadata": {},
     "output_type": "execute_result"
    }
   ],
   "source": [
    "geom_p=Geometric(0.1)"
   ]
  },
  {
   "cell_type": "markdown",
   "metadata": {},
   "source": [
    "We sample and plot the shape. It looks quite similar to the one we saw before. "
   ]
  },
  {
   "cell_type": "code",
   "execution_count": 14,
   "metadata": {
    "collapsed": false
   },
   "outputs": [
    {
     "data": {
      "image/png": "[encoded data removed]",
      "text/plain": [
       "PyPlot.Figure(PyObject <matplotlib.figure.Figure object at 0x7f87aacab110>)"
      ]
     },
     "metadata": {},
     "output_type": "display_data"
    }
   ],
   "source": [
    "dist_b_g=rand(geom_p,1000)\n",
    "ax=axes()\n",
    "ax[:hist](dist_b_g,14);"
   ]
  },
  {
   "cell_type": "code",
   "execution_count": 15,
   "metadata": {
    "collapsed": false
   },
   "outputs": [
    {
     "name": "stdout",
     "output_type": "stream",
     "text": [
      "search: \u001b[1mP\u001b[22m\u001b[1mo\u001b[22m\u001b[1mi\u001b[22m\u001b[1ms\u001b[22m\u001b[1ms\u001b[22m\u001b[1mo\u001b[22m\u001b[1mn\u001b[22m \u001b[1mP\u001b[22m\u001b[1mo\u001b[22m\u001b[1mi\u001b[22m\u001b[1ms\u001b[22m\u001b[1ms\u001b[22m\u001b[1mo\u001b[22m\u001b[1mn\u001b[22mBinomial\n",
      "\n"
     ]
    },
    {
     "data": {
      "text/markdown": [
       "```\n",
       "Poisson(λ)\n",
       "```\n",
       "\n",
       "A *Poisson distribution* descibes the number of independent events occurring within a unit time interval, given the average rate of occurrence `λ`.\n",
       "\n",
       "$$\n",
       "P(X = k) = \\frac{\\lambda^k}{k!} e^{-\\lambda}, \\quad \\text{ for } k = 0,1,2,\\ldots.\n",
       "$$\n",
       "\n",
       "```julia\n",
       "Poisson()        # Poisson distribution with rate parameter 1\n",
       "Poisson(lambda)       # Poisson distribution with rate parameter lambda\n",
       "\n",
       "params(d)        # Get the parameters, i.e. (λ,)\n",
       "mean(d)          # Get the mean arrival rate, i.e. λ\n",
       "```\n",
       "\n",
       "External links:\n",
       "\n",
       "  * [Poisson distribution on Wikipedia](http://en.wikipedia.org/wiki/Poisson_distribution)\n"
      ],
      "text/plain": [
       "```\n",
       "Poisson(λ)\n",
       "```\n",
       "\n",
       "A *Poisson distribution* descibes the number of independent events occurring within a unit time interval, given the average rate of occurrence `λ`.\n",
       "\n",
       "$$\n",
       "P(X = k) = \\frac{\\lambda^k}{k!} e^{-\\lambda}, \\quad \\text{ for } k = 0,1,2,\\ldots.\n",
       "$$\n",
       "\n",
       "```julia\n",
       "Poisson()        # Poisson distribution with rate parameter 1\n",
       "Poisson(lambda)       # Poisson distribution with rate parameter lambda\n",
       "\n",
       "params(d)        # Get the parameters, i.e. (λ,)\n",
       "mean(d)          # Get the mean arrival rate, i.e. λ\n",
       "```\n",
       "\n",
       "External links:\n",
       "\n",
       "  * [Poisson distribution on Wikipedia](http://en.wikipedia.org/wiki/Poisson_distribution)\n"
      ]
     },
     "execution_count": 15,
     "metadata": {},
     "output_type": "execute_result"
    }
   ],
   "source": [
    "?Poisson"
   ]
  },
  {
   "cell_type": "markdown",
   "metadata": {},
   "source": [
    "A _Poisson_ distribution is similar to the _Bernoulli_ distribution, but in continuous rather than discreet time. See this excellent [blog](https://juliohm.github.io/science/coin-flipping/).\n",
    "\n",
    "We generate an _Poisson_ distribtuion with $\\lambda=4$. "
   ]
  },
  {
   "cell_type": "code",
   "execution_count": 16,
   "metadata": {
    "collapsed": false
   },
   "outputs": [
    {
     "data": {
      "text/plain": [
       "Distributions.Poisson{Float64}(λ=4.0)"
      ]
     },
     "execution_count": 16,
     "metadata": {},
     "output_type": "execute_result"
    }
   ],
   "source": [
    "my_poission=Poisson(4)"
   ]
  },
  {
   "cell_type": "markdown",
   "metadata": {},
   "source": [
    "Take a sample."
   ]
  },
  {
   "cell_type": "code",
   "execution_count": 17,
   "metadata": {
    "collapsed": false
   },
   "outputs": [],
   "source": [
    "my_p_samples=rand(my_poission,10000);"
   ]
  },
  {
   "cell_type": "markdown",
   "metadata": {},
   "source": [
    "Verify that the mean works. "
   ]
  },
  {
   "cell_type": "code",
   "execution_count": 18,
   "metadata": {
    "collapsed": false
   },
   "outputs": [
    {
     "data": {
      "text/plain": [
       "4.0017"
      ]
     },
     "execution_count": 18,
     "metadata": {},
     "output_type": "execute_result"
    }
   ],
   "source": [
    "mean(my_p_samples)"
   ]
  },
  {
   "cell_type": "markdown",
   "metadata": {},
   "source": [
    "We plot the distribution and we see that it matches what we would expect to see to the that $\\lambda$ value. See that [figure](https://en.wikipedia.org/wiki/Poisson_distribution). "
   ]
  },
  {
   "cell_type": "code",
   "execution_count": 19,
   "metadata": {
    "collapsed": false
   },
   "outputs": [
    {
     "data": {
      "image/png": "[encoded data removed]",
      "text/plain": [
       "PyPlot.Figure(PyObject <matplotlib.figure.Figure object at 0x7f87a87f7b50>)"
      ]
     },
     "metadata": {},
     "output_type": "display_data"
    },
    {
     "data": {
      "text/plain": [
       "1-element Array{Any,1}:\n",
       " PyObject <matplotlib.lines.Line2D object at 0x7f87a8549410>"
      ]
     },
     "execution_count": 19,
     "metadata": {},
     "output_type": "execute_result"
    }
   ],
   "source": [
    "x=1:20\n",
    "y=pdf(my_poission,x)\n",
    "plot(x,y)"
   ]
  },
  {
   "cell_type": "markdown",
   "metadata": {},
   "source": [
    "As an exercise, try to see if you can show a similar relationship betwee the _Poisson_ and _Exponential_ distributions as the relationshp between the _Bernoulli_ and _Geometric_ distribtions. "
   ]
  }
 ],
 "metadata": {
  "kernelspec": {
   "display_name": "Julia 0.5.1-pre",
   "language": "julia",
   "name": "julia-0.5"
  },
  "language_info": {
   "file_extension": ".jl",
   "mimetype": "application/julia",
   "name": "julia",
   "version": "0.5.2"
  }
 },
 "nbformat": 4,
 "nbformat_minor": 1
}
