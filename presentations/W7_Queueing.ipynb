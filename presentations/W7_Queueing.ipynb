{
 "cells": [
  {
   "cell_type": "markdown",
   "metadata": {},
   "source": [
    "# Queueing M/M/1 with FIFO"
   ]
  },
  {
   "cell_type": "code",
   "execution_count": 1,
   "metadata": {
    "collapsed": true
   },
   "outputs": [],
   "source": [
    "using Distributions"
   ]
  },
  {
   "cell_type": "markdown",
   "metadata": {},
   "source": [
    "We define a type to store customer wait and service information"
   ]
  },
  {
   "cell_type": "code",
   "execution_count": 2,
   "metadata": {
    "collapsed": true
   },
   "outputs": [],
   "source": [
    "type QueueCustomer\n",
    "    time  #When do I arrrive\n",
    "    service_time #How much time it take to process my request\n",
    "    wait_time #How much time I spent waiting the quite\n",
    "    ID\n",
    "end "
   ]
  },
  {
   "cell_type": "markdown",
   "metadata": {},
   "source": [
    "We will construct the simplest queueing model, we will use an [M/M/1 queue](https://en.wikipedia.org/wiki/M/M/1_queue)\n",
    "\n",
    "<span style=\"color:red\">**Note that in class we used Exponential(λ) not Exponential(1/λ). This was mistake. The below is the corrected version **</span>"
   ]
  },
  {
   "cell_type": "code",
   "execution_count": 3,
   "metadata": {
    "collapsed": false
   },
   "outputs": [
    {
     "data": {
      "text/plain": [
       "Distributions.Exponential{Float64}(θ=0.5)"
      ]
     },
     "execution_count": 3,
     "metadata": {},
     "output_type": "execute_result"
    }
   ],
   "source": [
    "λ=3 # Arrival rate\n",
    "μ=2  #Service rate \n",
    "interarrival_dist=Exponential(1/λ)\n",
    "proccessing_dist=Exponential(1/μ)"
   ]
  },
  {
   "cell_type": "markdown",
   "metadata": {},
   "source": [
    "We created an arrival queue"
   ]
  },
  {
   "cell_type": "code",
   "execution_count": 4,
   "metadata": {
    "collapsed": false
   },
   "outputs": [
    {
     "data": {
      "text/plain": [
       "0-element Array{QueueCustomer,1}"
      ]
     },
     "execution_count": 4,
     "metadata": {},
     "output_type": "execute_result"
    }
   ],
   "source": [
    "arrival_queue=Array(QueueCustomer,0)"
   ]
  },
  {
   "cell_type": "markdown",
   "metadata": {},
   "source": [
    "We sample from the distribution and fill the queue "
   ]
  },
  {
   "cell_type": "code",
   "execution_count": 5,
   "metadata": {
    "collapsed": false
   },
   "outputs": [],
   "source": [
    "t=0\n",
    "for i=1:1000\n",
    "    next_custmer_at=rand(interarrival_dist)\n",
    "    t+=next_custmer_at\n",
    "    service_time=rand(proccessing_dist)\n",
    "    qc=QueueCustomer(t,service_time,Inf,i)\n",
    "    push!(arrival_queue,qc)\n",
    "end"
   ]
  },
  {
   "cell_type": "code",
   "execution_count": 6,
   "metadata": {
    "collapsed": false
   },
   "outputs": [
    {
     "data": {
      "text/plain": [
       "1000-element Array{QueueCustomer,1}:\n",
       " QueueCustomer(0.488974,1.43278,Inf,1)   \n",
       " QueueCustomer(4.04961,0.660068,Inf,2)   \n",
       " QueueCustomer(6.94945,0.834405,Inf,3)   \n",
       " QueueCustomer(17.0731,2.14125,Inf,4)    \n",
       " QueueCustomer(23.1236,1.45933,Inf,5)    \n",
       " QueueCustomer(25.3936,0.600255,Inf,6)   \n",
       " QueueCustomer(31.2894,0.237002,Inf,7)   \n",
       " QueueCustomer(34.8403,1.96659,Inf,8)    \n",
       " QueueCustomer(39.2978,1.66296,Inf,9)    \n",
       " QueueCustomer(44.9581,3.19253,Inf,10)   \n",
       " QueueCustomer(46.0404,0.872187,Inf,11)  \n",
       " QueueCustomer(46.6484,0.304213,Inf,12)  \n",
       " QueueCustomer(47.3021,2.06057,Inf,13)   \n",
       " ⋮                                       \n",
       " QueueCustomer(3048.67,3.0367,Inf,989)   \n",
       " QueueCustomer(3053.25,3.35954,Inf,990)  \n",
       " QueueCustomer(3054.69,1.77005,Inf,991)  \n",
       " QueueCustomer(3058.43,1.93172,Inf,992)  \n",
       " QueueCustomer(3059.1,0.171465,Inf,993)  \n",
       " QueueCustomer(3062.43,0.0368107,Inf,994)\n",
       " QueueCustomer(3066.3,2.49837,Inf,995)   \n",
       " QueueCustomer(3068.94,0.309426,Inf,996) \n",
       " QueueCustomer(3072.12,0.879434,Inf,997) \n",
       " QueueCustomer(3077.45,2.02045,Inf,998)  \n",
       " QueueCustomer(3078.01,0.224932,Inf,999) \n",
       " QueueCustomer(3087.92,0.142747,Inf,1000)"
      ]
     },
     "execution_count": 6,
     "metadata": {},
     "output_type": "execute_result"
    }
   ],
   "source": [
    "arrival_queue"
   ]
  },
  {
   "cell_type": "markdown",
   "metadata": {},
   "source": [
    "Now we proccess the queue "
   ]
  },
  {
   "cell_type": "code",
   "execution_count": 19,
   "metadata": {
    "collapsed": true
   },
   "outputs": [],
   "source": [
    "serviced_customers=Array(QueueCustomer,0)\n",
    "t=arrival_queue[1].time #Time of starting processing \n",
    "for i=1:1000\n",
    "    qc=shift!(arrival_queue)\n",
    "    t=max(t,qc.time)\n",
    "    wait_time=t-qc.time\n",
    "    qc.wait_time=wait_time\n",
    "    push!(serviced_customers,qc)\n",
    "    t+=qc.service_time\n",
    "end "
   ]
  },
  {
   "cell_type": "code",
   "execution_count": 20,
   "metadata": {
    "collapsed": false
   },
   "outputs": [
    {
     "data": {
      "text/plain": [
       "1000-element Array{QueueCustomer,1}:\n",
       " QueueCustomer(4.51998,3.52163,0.0,1)       \n",
       " QueueCustomer(14.4708,2.32932,0.0,2)       \n",
       " QueueCustomer(19.3307,0.881519,0.0,3)      \n",
       " QueueCustomer(19.5868,1.00963,0.625337,4)  \n",
       " QueueCustomer(23.4611,6.18854,0.0,5)       \n",
       " QueueCustomer(28.3249,1.27808,1.32473,6)   \n",
       " QueueCustomer(39.1736,0.526913,0.0,7)      \n",
       " QueueCustomer(42.7567,0.302202,0.0,8)      \n",
       " QueueCustomer(45.0421,0.908786,0.0,9)      \n",
       " QueueCustomer(50.9196,2.76528,0.0,10)      \n",
       " QueueCustomer(52.0391,2.77555,1.64569,11)  \n",
       " QueueCustomer(63.45,0.0352166,0.0,12)      \n",
       " QueueCustomer(68.2502,0.90186,0.0,13)      \n",
       " ⋮                                          \n",
       " QueueCustomer(2851.77,0.397708,0.0,989)    \n",
       " QueueCustomer(2852.2,2.74398,0.0,990)      \n",
       " QueueCustomer(2852.86,0.68567,2.08376,991) \n",
       " QueueCustomer(2854.48,3.9024,1.15028,992)  \n",
       " QueueCustomer(2854.84,4.02612,4.69135,993) \n",
       " QueueCustomer(2857.3,4.62044,6.255,994)    \n",
       " QueueCustomer(2863.9,2.11155,4.27074,995)  \n",
       " QueueCustomer(2867.64,3.18015,2.65072,996) \n",
       " QueueCustomer(2872.66,5.68988,0.809414,997)\n",
       " QueueCustomer(2873.04,0.222784,6.11439,998)\n",
       " QueueCustomer(2873.24,0.978726,6.14054,999)\n",
       " QueueCustomer(2876.82,3.25672,3.53872,1000)"
      ]
     },
     "execution_count": 20,
     "metadata": {},
     "output_type": "execute_result"
    }
   ],
   "source": [
    "serviced_customers"
   ]
  },
  {
   "cell_type": "markdown",
   "metadata": {
    "collapsed": true
   },
   "source": [
    "We are now ready to explore properties of the systems, such service time distritubion, average queueu wait time, etc..."
   ]
  }
 ],
 "metadata": {
  "kernelspec": {
   "display_name": "Julia 0.5.1-pre",
   "language": "julia",
   "name": "julia-0.5"
  },
  "language_info": {
   "file_extension": ".jl",
   "mimetype": "application/julia",
   "name": "julia",
   "version": "0.5.2"
  }
 },
 "nbformat": 4,
 "nbformat_minor": 1
}
