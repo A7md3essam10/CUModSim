{
 "cells": [
  {
   "cell_type": "markdown",
   "metadata": {},
   "source": [
    "# Week 4 Probability and programming concepts \n",
    "## Warm up tasks \n",
    "1. Using the first definition of probability, write code to calculate the\n",
    "   probability of getting a 4 or 1 or 2 on dice throw\n",
    "2. Write code the obtain the intersection between sets {1,5,4,2,3,7} and\n",
    "   {1,4,8,10,2}. \n",
    "3. Write code to define a class `Paper` with with attributes `color` and `size`. The\n",
    "   former is to be represented by a character and latter by an integer. \n",
    "4. Using (3) create and object with color `R` and size `4`\n",
    "5. Using (3) write code that can modify the way `Paper` is printed. \n",
    "6. Create an array of `Paper` object with all combinations of sizes from `1` to\n",
    "   `5` and color `R`, `G`, `B`, and `W`. \n",
    "7. Using code, calculate the probability of drawing at random from the array in\n",
    "   (6) a paper of size `3` or greater. \n",
    "8. Using what we covered in class, determine if `48112959837082048697` is a\n",
    "   prime number. \n",
    "9. Write code to COUNT all the numbers that a both divisible by 3 and 7 in the\n",
    "   range from 1 to 10000.\n",
    "10. Write code to obtain all the numbers that a both divisible by 3 and 7 in the\n",
    "   range from 1 to 10000 in an array.\n",
    "11. Using the ball example. If were to draw 7 balls from the urn, what is the\n",
    "    probability of getting 2 `W`, 4 `B` and `R`. \n",
    "12. Similar to (11), what is the probability of drawing 3 `W` and 4 `R`. \n"
   ]
  }
 ],
 "metadata": {
  "kernelspec": {
   "display_name": "Julia 0.5rc",
   "language": "julia",
   "name": "julia-0.5rc"
  },
  "language_info": {
   "file_extension": ".jl",
   "mimetype": "application/julia",
   "name": "julia",
   "version": "0.5.1"
  }
 },
 "nbformat": 4,
 "nbformat_minor": 1
}
