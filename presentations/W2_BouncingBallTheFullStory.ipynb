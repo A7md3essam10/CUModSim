{
 "cells": [
  {
   "cell_type": "markdown",
   "metadata": {},
   "source": [
    "# The Bouncing Ball introduction to Modeling and Simulation\n",
    "Last week we spend a great deal of time in the class discussing the bouncing\n",
    "ball model, Julia, and different ways of modeling as well and writing Julia\n",
    "code. In the notebook we intend the wrap up the discussion about that particular\n",
    "model and what we can learn from it as we approach other modeling and simulation\n",
    "tasks. "
   ]
  },
  {
   "cell_type": "markdown",
   "metadata": {},
   "source": [
    "## The physics of a bouncing ball\n",
    "\n",
    "From our basic classroom physics we know that a ball in a state of rest (i.e. zero velocity) that \n",
    "is released from height $h_0$ will drop towards the ground with acceleration with an acceleration \n",
    "due to gravity $g$, that usually has the value of $9.81 m/s^2$. However, when making that \n",
    "simple statement we must be aware of the implicit assumptions that this entails: \n",
    "- There are no fluid effects such as *bouyancy* or *drag*. \n",
    "- We are on planet earth and somewhere near its surface, and on an altitude and latitude \n",
    "    where $g=9.81 m/s^2$ is an okay approximation \n",
    "    (we know that is on our planet is could anywhere from $9.764 m/s^2$ to $9.834 m/s^2$). \n",
    "- The diameter, mass, and color of the ball does not matter\n",
    "- The ball is perfectly spherical and the ground is perfectly flat and level (so that when dropped from rest, it will bounce perfectly upwards) \n",
    "\n",
    "<span style=\"color:red\">**Lesson 1: Always state your assumptions**</span>\n",
    "\n",
    "Having stated our assumption we now proceed with the equations of motion. We\n",
    "know that a ball dropped from rest (in a vacuum, or with negligible fluid\n",
    "effects), will be subject to [constant translational acceleration in a straight\n",
    "line](https://en.wikipedia.org/wiki/Equations_of_motion#Uniform_acceleration).\n",
    "\n",
    "Hence \n",
    "$$v=v_0-g t$$\n",
    "Here $v$ is the vertical velocity, and v_0 is the initial vertical velocity. Our coordinate system is oriented such that\n",
    "the positive sense is away from the surface of the earth, hence the -ve effect\n",
    "of earth's acceleration. We can integrate the above equation to find the hight\n",
    "of the ball. It will come to \n",
    "$$h=h_o+v_0t -\\frac{1}{2}gt^2$$\n",
    "Where $h$ is the vertical hight above ground and $h_0$ is the initial hight. \n",
    "We know that when the ball hits the ground, it will lose some energy on the\n",
    "bounce. This can be expressed as\n",
    "$$v_a=-c v_b$$\n",
    "Where $v_b$ is the velocity immediately prior to collision, $v_a$ is the velocity immediately after collision,and  $c$ is the [coefficient or restitution](https://en.wikipedia.org/wiki/Coefficient_of_restitution). "
   ]
  },
  {
   "cell_type": "markdown",
   "metadata": {},
   "source": [
    "## The Model of the bouncing ball\n",
    "We have to be careful here stating the governing equations does not fully\n",
    "capture the model. We have to be aware of the _discontinuities_ that happen in\n",
    "our model. Things change before and after each bounce. \n",
    "\n",
    "We start by considering what happens in when we release the ball from rest up\n",
    "up until it hits the ground. Since it is released from the question for velocity\n",
    "will be simplified to \n",
    "$$v=-g t$$ \n",
    "and for the height, it will be \n",
    "$$h=h_o-\\frac{1}{2}gt^2$$\n",
    "We know it will hit the ground when $h=0$. A bit of algebra, will show us that\n",
    "it hit ground at time \n",
    "$$t_1=\\sqrt{\\frac{2h_0}{g}}$$\n",
    "The subscript $t_i$ indicates the $i$th time the ball will hit the ground. The\n",
    "velocity immediately before the bounce, will hence be \n",
    "$$v_b=-gt_1=-\\sqrt{2h_0g}$$. The velocity immediately after the first bounce\n",
    "will be \n",
    "$$v_1=c\\sqrt{2h_0g}$$\n",
    "where $v_i$  is the vertical velocity after the $i$th bounce. \n",
    "\n",
    "It is important to note that after the bounce the is change of force therefore a\n",
    "discontinuity in the meaning of time in equations of motion. The equations stated in the previous\n",
    "section will still hold, however the time $t$ will _reset_. Hence after the\n",
    "bounce \n",
    "$$v=v_1-g t$$\n",
    "and \n",
    "$$h=v_1t -\\frac{1}{2}gt^2$$\n",
    "where the time variable $t$ above denotes the time _after_ $t_1$. If we prefer\n",
    "to express the equations of motion in absolute time time after the ball has been\n",
    "released, we can write the above two equations as \n",
    "$$v=v_1-g (t-t_1)$$\n",
    "and \n",
    "$$h=v_1(t-t_1) -\\frac{1}{2}g(t-t_1)^2$$\n",
    "\n",
    "We can now substitute $h=0$ is and we find \n",
    "$$t_2-t_1=\\frac{2v_1}{g}$$\n",
    "also \n",
    "$$v_2=c v_1$$\n",
    "\n",
    "We can express this in very general terms as \n",
    "$$t_{i+1}-t_i=\\frac{2v_i}{g}$$\n",
    "and \n",
    "$$v_{i+1}=c v_i=c^iv_1$$\n",
    "Also in general term, we can rewrite the equation of motions as \n",
    "$$h(t)=\\begin{cases}\n",
    "    h_o-\\frac{1}{2}gt^2,& \\text{if } 0<t\\leq t_1\\\\\n",
    "    v_i(t-t_i) -\\frac{1}{2}g(t-t_i)^2,& \\text{for } t_i<t\\leq t_{i+1}\n",
    "\\end{cases}$$\n",
    "In conclusion, we only need to calculate $t_1$ and $v_1$ to start with, then we\n",
    "need to calculate all subsequent $v_i$s and $t_i$s and used the appropriate\n",
    "equation for the hight calculation.  We are now ready to start doing our\n",
    "simulation. "
   ]
  },
  {
   "cell_type": "markdown",
   "metadata": {},
   "source": [
    "## Bouncing Ball Simulation"
   ]
  },
  {
   "cell_type": "code",
   "execution_count": 1,
   "metadata": {
    "collapsed": true
   },
   "outputs": [],
   "source": [
    "using Winston # For plotting"
   ]
  },
  {
   "cell_type": "code",
   "execution_count": null,
   "metadata": {
    "collapsed": true
   },
   "outputs": [],
   "source": [
    "\"\"\"\n",
    "Given initial hight h0 and coefficient or restitution c, the function \n",
    "will generate a vector of ball postions up until time end_t. \n",
    "\"\"\"\n",
    "function bouncingBallPositon1(h0,c,end_t, delta=0.01)\n",
    "    g=9.81 # we will have this fixed\n",
    "    t1=ti=t_next=sqrt(2*h0/g)\n",
    "    vi=sqrt(2*h0*g) #Just before the bounce \n",
    "    time_range=0:delta:end_t\n",
    "    h_vec=zeros(length(time_range)) #The hight vector \n",
    "    i=1 # Array Index\n",
    "    for t in time_range\n",
    "        if tl<=t1\n",
    "            h_vec[i]=h0-0.5*g*t^2\n",
    "        else\n",
    "            if t>t_next #t_next is t_{i+1} in the equations\n",
    "                ti=t_next\n",
    "                vi*=c\n",
    "                t_next+=2*vi/g\n",
    "            end\n",
    "            h_vec[i]=vi*(t-ti)-0.5*g*(t-ti)^2\n",
    "        end\n",
    "        i+=1 # Incrementing the array counter \n",
    "    end\n",
    "    h_vec # return the vector of heights \n",
    "end"
   ]
  },
  {
   "cell_type": "code",
   "execution_count": 3,
   "metadata": {
    "collapsed": false
   },
   "outputs": [
    {
     "data": {
      "image/png": "[encoded data removed]",
      "text/plain": [
       "Winston.FramedPlot(...)"
      ]
     },
     "execution_count": 3,
     "metadata": {},
     "output_type": "execute_result"
    }
   ],
   "source": [
    "h_vec=bouncingBallPositon1(1,0.8,3.0)\n",
    "plot(0:0.01:3,h_vec)"
   ]
  },
  {
   "cell_type": "markdown",
   "metadata": {},
   "source": [
    "## Lab tasks\n",
    "- What is the _qualitative_ relationship between drop in hight after each bounce and $c$? \n",
    "- Plot the drop in maximum hight over time for a given $c$ and h. \n",
    "- Plot the relationship between $c$ and the time it take for the ball ball to have a maximum hight less that 1cm\n",
    "- Plot the relationship between $h_0$ and the time it take for the ball ball to have a maximum hight less that 1cm"
   ]
  }
 ],
 "metadata": {
  "kernelspec": {
   "display_name": "Julia 0.5.1-pre",
   "language": "julia",
   "name": "julia-0.5"
  },
  "language_info": {
   "file_extension": ".jl",
   "mimetype": "application/julia",
   "name": "julia",
   "version": "0.5.1"
  }
 },
 "nbformat": 4,
 "nbformat_minor": 1
}
